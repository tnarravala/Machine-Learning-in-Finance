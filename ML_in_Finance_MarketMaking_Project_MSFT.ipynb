{
  "nbformat": 4,
  "nbformat_minor": 0,
  "metadata": {
    "accelerator": "GPU",
    "colab": {
      "name": "ML_in_Finance_MarketMaking_Project_MSFT.ipynb",
      "provenance": [],
      "collapsed_sections": []
    },
    "kernelspec": {
      "display_name": "Python 3",
      "language": "python",
      "name": "python3"
    },
    "language_info": {
      "codemirror_mode": {
        "name": "ipython",
        "version": 3
      },
      "file_extension": ".py",
      "mimetype": "text/x-python",
      "name": "python",
      "nbconvert_exporter": "python",
      "pygments_lexer": "ipython3",
      "version": "3.6.10"
    },
    "widgets": {
      "application/vnd.jupyter.widget-state+json": {
        "a06d819c0f4c4652aca212a16480a156": {
          "model_module": "@jupyter-widgets/controls",
          "model_name": "HBoxModel",
          "state": {
            "_dom_classes": [],
            "_model_module": "@jupyter-widgets/controls",
            "_model_module_version": "1.5.0",
            "_model_name": "HBoxModel",
            "_view_count": null,
            "_view_module": "@jupyter-widgets/controls",
            "_view_module_version": "1.5.0",
            "_view_name": "HBoxView",
            "box_style": "",
            "children": [
              "IPY_MODEL_eaf175d3971241459d18b0837b4989e2",
              "IPY_MODEL_99fcba7dd35f4ac0b5b6fc6eaa5d554a"
            ],
            "layout": "IPY_MODEL_95fc866b97134b3cb962b9aa4d6ed30d"
          }
        },
        "eaf175d3971241459d18b0837b4989e2": {
          "model_module": "@jupyter-widgets/controls",
          "model_name": "FloatProgressModel",
          "state": {
            "_dom_classes": [],
            "_model_module": "@jupyter-widgets/controls",
            "_model_module_version": "1.5.0",
            "_model_name": "FloatProgressModel",
            "_view_count": null,
            "_view_module": "@jupyter-widgets/controls",
            "_view_module_version": "1.5.0",
            "_view_name": "ProgressView",
            "bar_style": "success",
            "description": "100%",
            "description_tooltip": null,
            "layout": "IPY_MODEL_4ff31b04e89340f6adb64eb9c1a0f700",
            "max": 150,
            "min": 0,
            "orientation": "horizontal",
            "style": "IPY_MODEL_f67d14adac2d4513a544766b226fb64c",
            "value": 150
          }
        },
        "99fcba7dd35f4ac0b5b6fc6eaa5d554a": {
          "model_module": "@jupyter-widgets/controls",
          "model_name": "HTMLModel",
          "state": {
            "_dom_classes": [],
            "_model_module": "@jupyter-widgets/controls",
            "_model_module_version": "1.5.0",
            "_model_name": "HTMLModel",
            "_view_count": null,
            "_view_module": "@jupyter-widgets/controls",
            "_view_module_version": "1.5.0",
            "_view_name": "HTMLView",
            "description": "",
            "description_tooltip": null,
            "layout": "IPY_MODEL_5968b8b70d3243ad8e13ed4d3f89915a",
            "placeholder": "​",
            "style": "IPY_MODEL_5442c6cc8f174b9bbbc2c3e38af8f0ae",
            "value": " 150/150 [40:20&lt;00:00, 16.14s/it]"
          }
        },
        "95fc866b97134b3cb962b9aa4d6ed30d": {
          "model_module": "@jupyter-widgets/base",
          "model_name": "LayoutModel",
          "state": {
            "_model_module": "@jupyter-widgets/base",
            "_model_module_version": "1.2.0",
            "_model_name": "LayoutModel",
            "_view_count": null,
            "_view_module": "@jupyter-widgets/base",
            "_view_module_version": "1.2.0",
            "_view_name": "LayoutView",
            "align_content": null,
            "align_items": null,
            "align_self": null,
            "border": null,
            "bottom": null,
            "display": null,
            "flex": null,
            "flex_flow": null,
            "grid_area": null,
            "grid_auto_columns": null,
            "grid_auto_flow": null,
            "grid_auto_rows": null,
            "grid_column": null,
            "grid_gap": null,
            "grid_row": null,
            "grid_template_areas": null,
            "grid_template_columns": null,
            "grid_template_rows": null,
            "height": null,
            "justify_content": null,
            "justify_items": null,
            "left": null,
            "margin": null,
            "max_height": null,
            "max_width": null,
            "min_height": null,
            "min_width": null,
            "object_fit": null,
            "object_position": null,
            "order": null,
            "overflow": null,
            "overflow_x": null,
            "overflow_y": null,
            "padding": null,
            "right": null,
            "top": null,
            "visibility": null,
            "width": null
          }
        },
        "4ff31b04e89340f6adb64eb9c1a0f700": {
          "model_module": "@jupyter-widgets/base",
          "model_name": "LayoutModel",
          "state": {
            "_model_module": "@jupyter-widgets/base",
            "_model_module_version": "1.2.0",
            "_model_name": "LayoutModel",
            "_view_count": null,
            "_view_module": "@jupyter-widgets/base",
            "_view_module_version": "1.2.0",
            "_view_name": "LayoutView",
            "align_content": null,
            "align_items": null,
            "align_self": null,
            "border": null,
            "bottom": null,
            "display": null,
            "flex": null,
            "flex_flow": null,
            "grid_area": null,
            "grid_auto_columns": null,
            "grid_auto_flow": null,
            "grid_auto_rows": null,
            "grid_column": null,
            "grid_gap": null,
            "grid_row": null,
            "grid_template_areas": null,
            "grid_template_columns": null,
            "grid_template_rows": null,
            "height": null,
            "justify_content": null,
            "justify_items": null,
            "left": null,
            "margin": null,
            "max_height": null,
            "max_width": null,
            "min_height": null,
            "min_width": null,
            "object_fit": null,
            "object_position": null,
            "order": null,
            "overflow": null,
            "overflow_x": null,
            "overflow_y": null,
            "padding": null,
            "right": null,
            "top": null,
            "visibility": null,
            "width": null
          }
        },
        "f67d14adac2d4513a544766b226fb64c": {
          "model_module": "@jupyter-widgets/controls",
          "model_name": "ProgressStyleModel",
          "state": {
            "_model_module": "@jupyter-widgets/controls",
            "_model_module_version": "1.5.0",
            "_model_name": "ProgressStyleModel",
            "_view_count": null,
            "_view_module": "@jupyter-widgets/base",
            "_view_module_version": "1.2.0",
            "_view_name": "StyleView",
            "bar_color": null,
            "description_width": "initial"
          }
        },
        "5968b8b70d3243ad8e13ed4d3f89915a": {
          "model_module": "@jupyter-widgets/base",
          "model_name": "LayoutModel",
          "state": {
            "_model_module": "@jupyter-widgets/base",
            "_model_module_version": "1.2.0",
            "_model_name": "LayoutModel",
            "_view_count": null,
            "_view_module": "@jupyter-widgets/base",
            "_view_module_version": "1.2.0",
            "_view_name": "LayoutView",
            "align_content": null,
            "align_items": null,
            "align_self": null,
            "border": null,
            "bottom": null,
            "display": null,
            "flex": null,
            "flex_flow": null,
            "grid_area": null,
            "grid_auto_columns": null,
            "grid_auto_flow": null,
            "grid_auto_rows": null,
            "grid_column": null,
            "grid_gap": null,
            "grid_row": null,
            "grid_template_areas": null,
            "grid_template_columns": null,
            "grid_template_rows": null,
            "height": null,
            "justify_content": null,
            "justify_items": null,
            "left": null,
            "margin": null,
            "max_height": null,
            "max_width": null,
            "min_height": null,
            "min_width": null,
            "object_fit": null,
            "object_position": null,
            "order": null,
            "overflow": null,
            "overflow_x": null,
            "overflow_y": null,
            "padding": null,
            "right": null,
            "top": null,
            "visibility": null,
            "width": null
          }
        },
        "5442c6cc8f174b9bbbc2c3e38af8f0ae": {
          "model_module": "@jupyter-widgets/controls",
          "model_name": "DescriptionStyleModel",
          "state": {
            "_model_module": "@jupyter-widgets/controls",
            "_model_module_version": "1.5.0",
            "_model_name": "DescriptionStyleModel",
            "_view_count": null,
            "_view_module": "@jupyter-widgets/base",
            "_view_module_version": "1.2.0",
            "_view_name": "StyleView",
            "description_width": ""
          }
        },
        "f0d0239fd77f416aaf64e7b7854f376e": {
          "model_module": "@jupyter-widgets/controls",
          "model_name": "HBoxModel",
          "state": {
            "_dom_classes": [],
            "_model_module": "@jupyter-widgets/controls",
            "_model_module_version": "1.5.0",
            "_model_name": "HBoxModel",
            "_view_count": null,
            "_view_module": "@jupyter-widgets/controls",
            "_view_module_version": "1.5.0",
            "_view_name": "HBoxView",
            "box_style": "",
            "children": [
              "IPY_MODEL_e60e7938140541d39de5893d64c75a23",
              "IPY_MODEL_601a8455ed2a444f89b1fbeb1f9abf7a"
            ],
            "layout": "IPY_MODEL_eeb30c3dc91442b5bedc9b66b603f1d7"
          }
        },
        "e60e7938140541d39de5893d64c75a23": {
          "model_module": "@jupyter-widgets/controls",
          "model_name": "FloatProgressModel",
          "state": {
            "_dom_classes": [],
            "_model_module": "@jupyter-widgets/controls",
            "_model_module_version": "1.5.0",
            "_model_name": "FloatProgressModel",
            "_view_count": null,
            "_view_module": "@jupyter-widgets/controls",
            "_view_module_version": "1.5.0",
            "_view_name": "ProgressView",
            "bar_style": "",
            "description": " 94%",
            "description_tooltip": null,
            "layout": "IPY_MODEL_ca9f755e015b4bc2b297ea8650a611be",
            "max": 150,
            "min": 0,
            "orientation": "horizontal",
            "style": "IPY_MODEL_18a132d280564348a4ee965d8e7e4bc7",
            "value": 141
          }
        },
        "601a8455ed2a444f89b1fbeb1f9abf7a": {
          "model_module": "@jupyter-widgets/controls",
          "model_name": "HTMLModel",
          "state": {
            "_dom_classes": [],
            "_model_module": "@jupyter-widgets/controls",
            "_model_module_version": "1.5.0",
            "_model_name": "HTMLModel",
            "_view_count": null,
            "_view_module": "@jupyter-widgets/controls",
            "_view_module_version": "1.5.0",
            "_view_name": "HTMLView",
            "description": "",
            "description_tooltip": null,
            "layout": "IPY_MODEL_63456a52f6154c3695790d041fba6816",
            "placeholder": "​",
            "style": "IPY_MODEL_5743efca01cf4c0e9fcb9670a07561d6",
            "value": " 141/150 [42:24&lt;02:49, 18.85s/it]"
          }
        },
        "eeb30c3dc91442b5bedc9b66b603f1d7": {
          "model_module": "@jupyter-widgets/base",
          "model_name": "LayoutModel",
          "state": {
            "_model_module": "@jupyter-widgets/base",
            "_model_module_version": "1.2.0",
            "_model_name": "LayoutModel",
            "_view_count": null,
            "_view_module": "@jupyter-widgets/base",
            "_view_module_version": "1.2.0",
            "_view_name": "LayoutView",
            "align_content": null,
            "align_items": null,
            "align_self": null,
            "border": null,
            "bottom": null,
            "display": null,
            "flex": null,
            "flex_flow": null,
            "grid_area": null,
            "grid_auto_columns": null,
            "grid_auto_flow": null,
            "grid_auto_rows": null,
            "grid_column": null,
            "grid_gap": null,
            "grid_row": null,
            "grid_template_areas": null,
            "grid_template_columns": null,
            "grid_template_rows": null,
            "height": null,
            "justify_content": null,
            "justify_items": null,
            "left": null,
            "margin": null,
            "max_height": null,
            "max_width": null,
            "min_height": null,
            "min_width": null,
            "object_fit": null,
            "object_position": null,
            "order": null,
            "overflow": null,
            "overflow_x": null,
            "overflow_y": null,
            "padding": null,
            "right": null,
            "top": null,
            "visibility": null,
            "width": null
          }
        },
        "ca9f755e015b4bc2b297ea8650a611be": {
          "model_module": "@jupyter-widgets/base",
          "model_name": "LayoutModel",
          "state": {
            "_model_module": "@jupyter-widgets/base",
            "_model_module_version": "1.2.0",
            "_model_name": "LayoutModel",
            "_view_count": null,
            "_view_module": "@jupyter-widgets/base",
            "_view_module_version": "1.2.0",
            "_view_name": "LayoutView",
            "align_content": null,
            "align_items": null,
            "align_self": null,
            "border": null,
            "bottom": null,
            "display": null,
            "flex": null,
            "flex_flow": null,
            "grid_area": null,
            "grid_auto_columns": null,
            "grid_auto_flow": null,
            "grid_auto_rows": null,
            "grid_column": null,
            "grid_gap": null,
            "grid_row": null,
            "grid_template_areas": null,
            "grid_template_columns": null,
            "grid_template_rows": null,
            "height": null,
            "justify_content": null,
            "justify_items": null,
            "left": null,
            "margin": null,
            "max_height": null,
            "max_width": null,
            "min_height": null,
            "min_width": null,
            "object_fit": null,
            "object_position": null,
            "order": null,
            "overflow": null,
            "overflow_x": null,
            "overflow_y": null,
            "padding": null,
            "right": null,
            "top": null,
            "visibility": null,
            "width": null
          }
        },
        "18a132d280564348a4ee965d8e7e4bc7": {
          "model_module": "@jupyter-widgets/controls",
          "model_name": "ProgressStyleModel",
          "state": {
            "_model_module": "@jupyter-widgets/controls",
            "_model_module_version": "1.5.0",
            "_model_name": "ProgressStyleModel",
            "_view_count": null,
            "_view_module": "@jupyter-widgets/base",
            "_view_module_version": "1.2.0",
            "_view_name": "StyleView",
            "bar_color": null,
            "description_width": "initial"
          }
        },
        "63456a52f6154c3695790d041fba6816": {
          "model_module": "@jupyter-widgets/base",
          "model_name": "LayoutModel",
          "state": {
            "_model_module": "@jupyter-widgets/base",
            "_model_module_version": "1.2.0",
            "_model_name": "LayoutModel",
            "_view_count": null,
            "_view_module": "@jupyter-widgets/base",
            "_view_module_version": "1.2.0",
            "_view_name": "LayoutView",
            "align_content": null,
            "align_items": null,
            "align_self": null,
            "border": null,
            "bottom": null,
            "display": null,
            "flex": null,
            "flex_flow": null,
            "grid_area": null,
            "grid_auto_columns": null,
            "grid_auto_flow": null,
            "grid_auto_rows": null,
            "grid_column": null,
            "grid_gap": null,
            "grid_row": null,
            "grid_template_areas": null,
            "grid_template_columns": null,
            "grid_template_rows": null,
            "height": null,
            "justify_content": null,
            "justify_items": null,
            "left": null,
            "margin": null,
            "max_height": null,
            "max_width": null,
            "min_height": null,
            "min_width": null,
            "object_fit": null,
            "object_position": null,
            "order": null,
            "overflow": null,
            "overflow_x": null,
            "overflow_y": null,
            "padding": null,
            "right": null,
            "top": null,
            "visibility": null,
            "width": null
          }
        },
        "5743efca01cf4c0e9fcb9670a07561d6": {
          "model_module": "@jupyter-widgets/controls",
          "model_name": "DescriptionStyleModel",
          "state": {
            "_model_module": "@jupyter-widgets/controls",
            "_model_module_version": "1.5.0",
            "_model_name": "DescriptionStyleModel",
            "_view_count": null,
            "_view_module": "@jupyter-widgets/base",
            "_view_module_version": "1.2.0",
            "_view_name": "StyleView",
            "description_width": ""
          }
        }
      }
    }
  },
  "cells": [
    {
      "cell_type": "code",
      "metadata": {
        "id": "Wm1f0yxNTOlx"
      },
      "source": [
        "# ML_in_Finance_Market_Impact\n",
        "# Author: Matthew Dixon and Igor Halperin\n",
        "# Version: 1.0 (14.10.2019)\n",
        "# License: MIT\n",
        "# Email: matthew.dixon@iit.edu\n",
        "# Notes: tested on Mac OS X with Python 3.6.9 with the following packages:\n",
        "# numpy=1.18.1, matplotlib=3.1.3, tqdm=4.46\n",
        "# Citation: Please cite the following reference if this notebook is used for research purposes:\n",
        "# Bilokon P., Dixon M.F. and I. Halperin, Machine Learning in Finance: From Theory to Practice, Springer Graduate textbook Series, 2020. "
      ],
      "execution_count": null,
      "outputs": []
    },
    {
      "cell_type": "markdown",
      "metadata": {
        "id": "tvqV8HCATOly"
      },
      "source": [
        "# The Market Making Problem"
      ]
    },
    {
      "cell_type": "markdown",
      "metadata": {
        "id": "2D4lCviQTOly"
      },
      "source": [
        "We can build on the previous two examples by considering the problem of high frequency market making. Unlike the previous example, we shall learn a time independent optimal policy.\n",
        "\n",
        "Assume that a market maker seeks to capture the bid-ask spread by placing one lot best bid and ask limit orders. They are required to strictly keep their inventory between -1 and 1. The problem is when to optimally quote either a bid or ask, or simply wait, each time there is a limit order book update. For example, sometimes it may be more advantageous to quote a bid to close out a short position if it will almost surely give an instantaneous net reward, other times it may be better to wait and capture a larger spread.\n",
        "\n",
        "In this toy example, the agent uses the liquidity imbalance in the top of the order book as a proxy for price movement and, hence, fill probabilities. The example does not use market orders, knowledge of queue positions, cancellations and limit order placement at different levels of the ladder. These are left to later material and exercises.\n",
        "\n",
        "At each non-uniform time update, $t$, the market feed provides best prices and depths $\\{p^a_t, q^a_t, p^b_t, q^b_t\\}$. The state space is the product of the inventory, $X_t\\in\\{-1,0,1\\}$, and gridded liquidity ratio $\\hat{R}_t= \\lfloor{\\frac{q^a_t}{q^a_t+q^b_t}N\\rfloor}\\in [0,1]$, where $N$ is the number of grid points and $q^a_t$ and $q^b_t$ are the depths of the best ask and bid. $\\hat{R}_t \\rightarrow 0$ is the regime where the mid-price will go up and an ask is filled. Vice versa for $\\hat{R}_t \\rightarrow 1$. The dimension of the state space is chosen to be $ 3 \\cdot 10 = 30$.\n",
        "\n",
        "A bid is filled with probability $\\epsilon_t:=\\hat{R}_t$ and an ask is filled with probability $1-\\epsilon_t$. The rewards are chosen to be the expected total P\\&L. If a bid is filled to close out a short holding, then the expected reward $r_t=-\\epsilon_t (\\Delta p_t+c)$, where $\\Delta p_t$ is the difference between the exit and entry price and $c$ is the transaction cost. For example, if the agent entered a short position at time $s<t$ with a filled ask at $p^a_s=100$ and closed out the position with a filled bid at $p^b_t=99$, then $\\Delta p_t=1$. The agent is penalized for quoting an ask or bid when the position is already short or long respectively.\n",
        "\n",
        "We can now apply SARSA or Q-learning to learn optimal market making in such a simplified setting. For exploration needed for on-line learning, one can use a\n",
        "$\\varepsilon $-greedy policy."
      ]
    },
    {
      "cell_type": "markdown",
      "metadata": {
        "id": "OluI8-J5TOly"
      },
      "source": [
        "### Import the necessary libraries"
      ]
    },
    {
      "cell_type": "code",
      "metadata": {
        "id": "wr24ZWwPTOly"
      },
      "source": [
        "import time\n",
        "import copy\n",
        "import random\n",
        "import sys\n",
        "\n",
        "import numpy as np\n",
        "\n",
        "import matplotlib.pyplot as plt\n",
        "from matplotlib.gridspec import GridSpec\n",
        "\n",
        "from tqdm.notebook import tqdm "
      ],
      "execution_count": null,
      "outputs": []
    },
    {
      "cell_type": "code",
      "metadata": {
        "colab": {
          "base_uri": "https://localhost:8080/"
        },
        "id": "KtjWH8FzTaa6",
        "outputId": "0aa17f9e-5948-490c-d49d-9dc563d83661"
      },
      "source": [
        "from google.colab import drive\n",
        "drive.mount('/content/drive/')"
      ],
      "execution_count": null,
      "outputs": [
        {
          "output_type": "stream",
          "text": [
            "Mounted at /content/drive/\n"
          ],
          "name": "stdout"
        }
      ]
    },
    {
      "cell_type": "code",
      "metadata": {
        "id": "ahhgEkMpTmIZ"
      },
      "source": [
        "import os\n",
        "os.chdir(\"/content/drive/My Drive\")"
      ],
      "execution_count": null,
      "outputs": []
    },
    {
      "cell_type": "code",
      "metadata": {
        "id": "jBICFBcWTOly"
      },
      "source": [
        "%matplotlib inline"
      ],
      "execution_count": null,
      "outputs": []
    },
    {
      "cell_type": "markdown",
      "metadata": {
        "id": "Bj1z3cJ4TOlz"
      },
      "source": [
        "### Setting up  \n",
        "#### Setting some global parameters  "
      ]
    },
    {
      "cell_type": "markdown",
      "metadata": {
        "id": "hM2a__WUTOlz"
      },
      "source": [
        "Parameters of the reinforcement learning algorithms"
      ]
    },
    {
      "cell_type": "code",
      "metadata": {
        "id": "iuL1tiLRTOlz"
      },
      "source": [
        "EPSILON = 0.5 # Probability for exploration\n",
        "\n",
        "ALPHA = 0.05 # Step size\n",
        "\n",
        "GAMMA = 1 # Discount factor for Q-Learning and Sarsa"
      ],
      "execution_count": null,
      "outputs": []
    },
    {
      "cell_type": "markdown",
      "metadata": {
        "id": "MQuFp5dWTOlz"
      },
      "source": [
        "Some parameters describing the problem and our implementation of it"
      ]
    },
    {
      "cell_type": "code",
      "metadata": {
        "id": "vmjhBIgyTOlz"
      },
      "source": [
        "ACTIONS = [0, 1, 2,3,4] # Possible actions #modified\n",
        "\n",
        "NUM_INV_STEPS = 3 # Number of inventory states: long, short, flat\n",
        "\n",
        "NUM_PROB_STEPS = 10 # Number of discrete probabilities\n",
        "\n",
        "# Dimensions of the action-state value array:\n",
        "Q_DIMS = (NUM_INV_STEPS, NUM_PROB_STEPS, len(ACTIONS))\n",
        "\n",
        "FILL_PROBS = np.linspace(0, 1, 10) # Possible probability values\n",
        "\n",
        "c = 0.5 # Transaction cost\n",
        "\n",
        "MAX_ITER = np.float('inf') # Maximum number of iterations in one episode\n",
        "# (with `MAX_ITER = np.float('inf')`, the entire dataset will be used)"
      ],
      "execution_count": null,
      "outputs": []
    },
    {
      "cell_type": "markdown",
      "metadata": {
        "id": "Oe0qlRkeTOlz"
      },
      "source": [
        "Note the discrete probability values in `FILL_PROBS`. These represent the probability of a bid being fulfilled, and the complement of the probability of an ask being fulfilled."
      ]
    },
    {
      "cell_type": "code",
      "metadata": {
        "colab": {
          "base_uri": "https://localhost:8080/"
        },
        "id": "vonNXgJCTOlz",
        "outputId": "f4e6d377-0fcc-4253-c061-e5ea80ff231b"
      },
      "source": [
        "FILL_PROBS"
      ],
      "execution_count": null,
      "outputs": [
        {
          "output_type": "execute_result",
          "data": {
            "text/plain": [
              "array([0.        , 0.11111111, 0.22222222, 0.33333333, 0.44444444,\n",
              "       0.55555556, 0.66666667, 0.77777778, 0.88888889, 1.        ])"
            ]
          },
          "metadata": {
            "tags": []
          },
          "execution_count": 8
        }
      ]
    },
    {
      "cell_type": "markdown",
      "metadata": {
        "id": "XSs0q1B6TOl0"
      },
      "source": [
        "These dictionaries map the names of the actions and positions to their index along the corresponding axis of the state-action value array `q_value` in the learning algorithms"
      ]
    },
    {
      "cell_type": "code",
      "metadata": {
        "id": "iVhLzNxlTOl0"
      },
      "source": [
        "actions = {'buy': 2, 'sell': 0, 'hold': 1,'mb':3,'ms':4 } \n",
        "positions = {'flat': 0, 'long': 2, 'short': 1}"
      ],
      "execution_count": null,
      "outputs": []
    },
    {
      "cell_type": "markdown",
      "metadata": {
        "id": "gBYncLfvTOl0"
      },
      "source": [
        "#### The data generator\n",
        "\n",
        "The training data are in a .csv file. The data generator object yields the next Limit Order Book update from the file. When it reaches the end of the file, it raises `StopIteration`, and its `rewind()` method must be called to reset it."
      ]
    },
    {
      "cell_type": "code",
      "metadata": {
        "id": "wNldbeVMTOl0",
        "scrolled": true
      },
      "source": [
        "class DataFeed(object):\n",
        "    def __init__(self, data_RA):\n",
        "        self.data_RA = data_RA\n",
        "        self.rewind()\n",
        "    def next(self):\n",
        "        try:\n",
        "            return self.__gen.__next__()\n",
        "        except StopIteration as e:\n",
        "            raise e\n",
        "    def rewind(self):\n",
        "        self.__gen = (row for row in self.data_RA)"
      ],
      "execution_count": null,
      "outputs": []
    },
    {
      "cell_type": "code",
      "metadata": {
        "id": "L-h2nDElTOl0"
      },
      "source": [
        "csv_path = 'MSFT-L1.csv'\n",
        "\n",
        "data_RA = np.genfromtxt(csv_path, delimiter=',', dtype=float)\n",
        "data_generator = DataFeed(data_RA)"
      ],
      "execution_count": null,
      "outputs": []
    },
    {
      "cell_type": "markdown",
      "metadata": {
        "id": "EfJMuZIcTOl0"
      },
      "source": [
        "#### State\n",
        "The state has four elements: \n",
        "- position (flat, long, short); \n",
        "- probability of ask fill (index in the array of probabilities)\n",
        "- prices (a dictionary of bid and ask)\n",
        "- entry price\n",
        "\n",
        "We note, however, that the q-value is only a function of the position and probability, and the action taken."
      ]
    },
    {
      "cell_type": "markdown",
      "metadata": {
        "id": "EOCLkL5vTOl0"
      },
      "source": [
        "Here, we define a function to \"rewind\" the data generator to the beginning of the dataset and initialise the state vector"
      ]
    },
    {
      "cell_type": "code",
      "metadata": {
        "id": "w80O4bmoTOl0"
      },
      "source": [
        "def get_initial_state(data_generator):\n",
        "    data_generator.rewind()\n",
        "    \n",
        "    # By convention we start with a flat position\n",
        "    # and, therefore, no entry price\n",
        "    position = positions['flat']\n",
        "    entry_price = None\n",
        "    \n",
        "    ask, ask_depth, bid, bid_depth = data_generator.next()\n",
        "    \n",
        "    price = {'bid': bid/1000.0, 'ask': ask/1000.0}    \n",
        "    #print('bd',bid_depth)\n",
        "    #print('as',ask_depth)\n",
        "    # Estimate the fill probability\n",
        "    q = bid_depth / (bid_depth + ask_depth)\n",
        "    # Quantise q and scale it to the integer index \n",
        "    # q_ind is an index of the vector `FILL_PROBS`\n",
        "    q_ind = np.int(q * NUM_PROB_STEPS) \n",
        "    \n",
        "    initial_state = position, q_ind, price, entry_price\n",
        "    \n",
        "    return initial_state"
      ],
      "execution_count": null,
      "outputs": []
    },
    {
      "cell_type": "code",
      "metadata": {
        "colab": {
          "base_uri": "https://localhost:8080/"
        },
        "id": "NLvWO_O7TOl0",
        "outputId": "e3c94c41-a506-496c-a3b6-6637550d3467"
      },
      "source": [
        "START = get_initial_state(data_generator)\n",
        "print(START)"
      ],
      "execution_count": null,
      "outputs": [
        {
          "output_type": "stream",
          "text": [
            "(0, 0, {'bid': 309.5, 'ask': 309.9}, None)\n"
          ],
          "name": "stdout"
        }
      ]
    },
    {
      "cell_type": "markdown",
      "metadata": {
        "id": "y7YY4krkTOl0"
      },
      "source": [
        "#### Setting up the environment"
      ]
    },
    {
      "cell_type": "markdown",
      "metadata": {
        "id": "864tS9jATOl0"
      },
      "source": [
        "The step function that describes how the next state is obtained from the current state and the action taken. \n",
        "\n",
        "The function returns the next state and the immediate reward obtained from the action taken. "
      ]
    },
    {
      "cell_type": "code",
      "metadata": {
        "id": "B31DbdCfTOl0"
      },
      "source": [
        "def step(state, action):\n",
        "        position, q, price, entry_price = state\n",
        "        reward = 0 \n",
        "        instant_pnl = 0\n",
        "        done = False\n",
        "        \n",
        "        # The ask/bid fill probabilities always sum to 1, meaning\n",
        "        # that either bid or ask orders can always be executed \n",
        "      \n",
        "        if FILL_PROBS[q] < np.random.rand():\n",
        "            fill_bid = True\n",
        "            fill_ask = False\n",
        "        else:\n",
        "            fill_bid = False\n",
        "            fill_ask = True\n",
        "        '''\n",
        "        if FILL_PROBS[q] < np.random.rand():\n",
        "          fill_bid = True\n",
        "          fill_ask = False\n",
        "        elif (1-FILL_PROBS[q]) < np.random.rand():\n",
        "          fill_bid = False\n",
        "          fill_ask = True\n",
        "        else:\n",
        "          fill_bid = False\n",
        "          fill_ask = False'''\n",
        "        #print('fill',fill_bid,fill_ask)\n",
        "        # Calculate the result of taking the selected action\n",
        "        if (action == actions['buy']) and (fill_bid):\n",
        "            reward = -c\n",
        "            if (position == positions['flat']):         \n",
        "                position = positions['long']\n",
        "                entry_price = price['bid'] \n",
        "            elif(position == positions['short']): # closing out a short position          \n",
        "                position = positions['flat']\n",
        "                exit_price =  price['bid']\n",
        "                instant_pnl = entry_price - exit_price\n",
        "                entry_price = None\n",
        "            elif position == positions['long']:\n",
        "                raise ValueError(\"can't buy already got\")\n",
        "        \n",
        "        elif (action == actions['sell']) and (fill_ask):\n",
        "            reward = -c\n",
        "            if (position == positions['flat']):\n",
        "                position = positions['short']\n",
        "                entry_price = price['ask']\n",
        "            elif (position == positions['long']): # closing out a long position   \n",
        "                exit_price = price['ask']\n",
        "                position = positions['flat']\n",
        "                instant_pnl = exit_price - entry_price\n",
        "                entry_price = None\n",
        "            elif position == positions['short']:\n",
        "                raise ValueError(\"can't sell already short\")\n",
        "\n",
        "        elif action == actions['mb']:\n",
        "          reward =-c\n",
        "          if (position == positions['flat']):\n",
        "            raise ValueError(\"already exited\")\n",
        "          elif (position == positions['long']):\n",
        "            raise ValueError(\"can't buy already got\")\n",
        "          elif (position == positions['short']):\n",
        "            #print('inside mb')\n",
        "            position =positions['flat']\n",
        "            exit_price =  price['ask']\n",
        "            instant_pnl = entry_price -exit_price \n",
        "            entry_price = None\n",
        "           # print(instant_pnl)\n",
        "\n",
        "        elif action == actions['ms']:\n",
        "          reward =-c\n",
        "          if (position == positions['flat']):\n",
        "            raise ValueError(\"already exited\")\n",
        "          elif (position == positions['long']):\n",
        "           # print('inside ms')\n",
        "            exit_price = price['bid']\n",
        "            position = positions['flat']\n",
        "            instant_pnl =  exit_price - entry_price\n",
        "            entry_price = None\n",
        "            #print(instant_pnl)\n",
        "          elif (position == positions['short']):\n",
        "            raise ValueError(\"can't sell already short\")\n",
        "\n",
        "\n",
        "\n",
        "\n",
        "\n",
        "        \n",
        "        reward += instant_pnl\n",
        "        \n",
        "        try:            \n",
        "            # Get the next limit order book update\n",
        "            ask, ask_depth, bid, bid_depth = data_generator.next()\n",
        "            \n",
        "            # Calculate the price and bid/ask fill probabilities for the next state\n",
        "            price = {'bid': bid/1000.0, 'ask': ask/1000.0}    \n",
        "\n",
        "            # Estimate the fill probability\n",
        "            q = bid_depth / (bid_depth + ask_depth)\n",
        "            \n",
        "            # Quantise q and scale it to the integer index \n",
        "            # q_ind is an index of the vector `FILL_PROBS`\n",
        "            q_ind = np.int(q * NUM_PROB_STEPS) \n",
        "            \n",
        "        except StopIteration as e:\n",
        "            # This happens when the data generator reaches the end of the dataset\n",
        "            raise e\n",
        "        \n",
        "        next_state = position, q_ind, price, entry_price\n",
        "        return next_state, reward"
      ],
      "execution_count": null,
      "outputs": []
    },
    {
      "cell_type": "code",
      "metadata": {
        "colab": {
          "base_uri": "https://localhost:8080/",
          "height": 52
        },
        "id": "mPEJdPFWTOl0",
        "outputId": "8f711207-4489-4e75-80de-0203d9af6fc9"
      },
      "source": [
        "# Check START state, action pairs and the associated reward\n",
        "'''\n",
        "print(actions)\n",
        "state = get_initial_state\n",
        "print(step(START, 0))\n",
        "print(step(START, 1))\n",
        "#print(step(START, 3))\n",
        "next_s=step(START,0)\n",
        "print(next_s[0][0])\n",
        "#print(next_s)\n",
        "if next_s[0][0]==0:\n",
        "  step(next_s[0],4)\n",
        "'''"
      ],
      "execution_count": null,
      "outputs": [
        {
          "output_type": "execute_result",
          "data": {
            "application/vnd.google.colaboratory.intrinsic+json": {
              "type": "string"
            },
            "text/plain": [
              "'\\nprint(actions)\\nstate = get_initial_state\\nprint(step(START, 0))\\nprint(step(START, 1))\\n#print(step(START, 3))\\nnext_s=step(START,0)\\nprint(next_s[0][0])\\n#print(next_s)\\nif next_s[0][0]==0:\\n  step(next_s[0],4)\\n'"
            ]
          },
          "metadata": {
            "tags": []
          },
          "execution_count": 15
        }
      ]
    },
    {
      "cell_type": "markdown",
      "metadata": {
        "id": "TyNCkn_3TOl1"
      },
      "source": [
        "### Set up the agent's action policy\n",
        "Given $S_t$ and $Q_t\\left( s_t, a_t\\right)$, this function chooses an action based on the epsilon-greedy algorithm"
      ]
    },
    {
      "cell_type": "code",
      "metadata": {
        "id": "J39i0dQPTOl1"
      },
      "source": [
        "def choose_action(state, q_value, eps=EPSILON):\n",
        "    position, q, price, entry_price = state\n",
        "    \n",
        "    # With probability eps we choose randomly among allowed actions\n",
        "    if np.random.binomial(1, eps) == 1: \n",
        "        if position == positions['long']:\n",
        "            action = np.random.choice([actions['hold'], actions['sell'],actions['ms']])\n",
        "        elif position == positions['short']:\n",
        "            action = np.random.choice([actions['hold'], actions['buy'],actions['mb']])\n",
        "        else:\n",
        "            action = np.random.choice([actions['hold'], actions['buy'], actions['sell']])  \n",
        "        \n",
        "    # Otherwise the best available action is selected\n",
        "    else:\n",
        "        # Make a list of the actions available from the current state\n",
        "        if position == positions['long']:\n",
        "            actions_ = [actions['hold'], actions['sell'],actions['ms']]        \n",
        "        elif position == positions['short']:\n",
        "            actions_ = [actions['hold'], actions['buy'],actions['mb']]\n",
        "        else:\n",
        "            actions_ = [actions['hold'], actions['buy'], actions['sell']]\n",
        "        # Get the state-action values for the current state\n",
        "        values_ = q_value[state[0], state[1], actions_]\n",
        "        # In case of a tie, choose from those with the highest value\n",
        "        action = np.random.choice([actions_[action_] for action_, value_ in enumerate(values_) \n",
        "                                 if value_ == np.max(values_)])\n",
        "    return action"
      ],
      "execution_count": null,
      "outputs": []
    },
    {
      "cell_type": "markdown",
      "metadata": {
        "id": "rIM9poZ8TOl1"
      },
      "source": [
        "To demonstrate the "
      ]
    },
    {
      "cell_type": "code",
      "metadata": {
        "colab": {
          "base_uri": "https://localhost:8080/"
        },
        "id": "ZQhyPe3sTOl1",
        "outputId": "8e57014b-ded7-4057-b4a2-2a6ec1808e7b"
      },
      "source": [
        "# Set a random state-action value function\n",
        "q_value_example = np.random.random(Q_DIMS) \n",
        "\n",
        "# Show the initial state\n",
        "state = get_initial_state(data_generator)\n",
        "print(state)\n",
        "\n",
        "# The action values for the initial state. \n",
        "# state[0] is the position; state[1] is the bid fill probability\n",
        "print(q_value_example[state[0], state[1], :])\n",
        "\n",
        "# With epsilon = 0, the selected action is always that with the highest Q-value\n",
        "print(choose_action(state, q_value_example, eps=0))"
      ],
      "execution_count": null,
      "outputs": [
        {
          "output_type": "stream",
          "text": [
            "(0, 0, {'bid': 309.5, 'ask': 309.9}, None)\n",
            "[0.00260398 0.02728636 0.56580308 0.09706975 0.44607709]\n",
            "2\n"
          ],
          "name": "stdout"
        }
      ]
    },
    {
      "cell_type": "markdown",
      "metadata": {
        "id": "gAYxhcLpTOl1"
      },
      "source": [
        "### Set up the learning algorithms"
      ]
    },
    {
      "cell_type": "markdown",
      "metadata": {
        "id": "H6H68BvlTOl1"
      },
      "source": [
        "#### Sarsa and Expected Sarsa"
      ]
    },
    {
      "cell_type": "markdown",
      "metadata": {
        "id": "ZKBCFjdYTOl1"
      },
      "source": [
        "The function below runs through a learning episode with Sarsa. It takes the state-action value array `q_value` as an argument, initialises the state to `START`, defined above, and updates `q_value` according to the Sarsa algorithm, until reaching either the end of the training data or the maximum number of iterations. The cumulative reward earned is returned."
      ]
    },
    {
      "cell_type": "code",
      "metadata": {
        "id": "nSwIy0RyTOl1"
      },
      "source": [
        "def sarsa(q_value, expected=False, step_size=ALPHA, eps=EPSILON):\n",
        "    \n",
        "    state = get_initial_state(data_generator)\n",
        "    \n",
        "    action = choose_action(state, q_value, eps)\n",
        "    rewards = 0.0\n",
        "    done = False\n",
        "    iteration = 0\n",
        "    \n",
        "    while (iteration < MAX_ITER) and not done:\n",
        "        # The step function will raise StopIteration when there\n",
        "        # is no more data available to calculate the next state:\n",
        "        try:\n",
        "            next_state, reward = step(state, action)\n",
        "        except StopIteration:\n",
        "            # Skip the rest of the loop and end the episode.\n",
        "            # As there is no new `next_state`, updating\n",
        "            # q_value again doesn't make sense\n",
        "            done = True\n",
        "            continue\n",
        "        next_action = choose_action(next_state, q_value, eps)\n",
        "        \n",
        "        rewards += reward\n",
        "        \n",
        "        if not expected:\n",
        "            target = q_value[next_state[0], next_state[1], next_action]\n",
        "        else:\n",
        "            # Calculate the expected value of new state for expected SARSA\n",
        "            target = 0.0\n",
        "            q_next = q_value[next_state[0], next_state[1], :]\n",
        "            best_actions = np.argwhere(q_next == np.max(q_next))\n",
        "            for action_ in ACTIONS: \n",
        "                if action_ in best_actions:\n",
        "                    target += ((1.0 -  eps) / len(best_actions) \n",
        "                               +  eps / len(ACTIONS)) * q_value[next_state[0], next_state[1], action_]\n",
        "                else:\n",
        "                    target +=  eps / len(ACTIONS) * q_value[next_state[0], next_state[1], action_]\n",
        "        target *= GAMMA\n",
        "        \n",
        "        # SARSA update\n",
        "        q_value[state[0], state[1], action] += step_size * (reward\n",
        "                 + target - q_value[state[0], state[1], action])\n",
        "        \n",
        "        state = next_state\n",
        "        action = next_action\n",
        "        iteration += 1\n",
        "    return rewards"
      ],
      "execution_count": null,
      "outputs": []
    },
    {
      "cell_type": "markdown",
      "metadata": {
        "id": "MFciN0z9TOl1"
      },
      "source": [
        "#### Q-learning"
      ]
    },
    {
      "cell_type": "markdown",
      "metadata": {
        "id": "FDO3kJmuTOl1"
      },
      "source": [
        "This function simulates an episode with Q-learning. It takes the state-action value array `q_value` as an argument, initialises the state to `START`, defined above, and updates `q_value` according to the Q-learning algorithm, until the $T$ time steps have passed, or the stocks have all been sold. The cumulative reward earned is returned."
      ]
    },
    {
      "cell_type": "code",
      "metadata": {
        "id": "vfa7hTHDTOl1"
      },
      "source": [
        "def q_learning(q_value, step_size=ALPHA, eps=EPSILON):\n",
        "    \n",
        "    state = get_initial_state(data_generator)\n",
        "    \n",
        "    rewards = 0.0\n",
        "    done  = False\n",
        "    iteration = 0\n",
        "    \n",
        "    while (iteration < MAX_ITER) and not done:\n",
        "        action = choose_action(state, q_value, eps)\n",
        "        # The step function will raise StopIteration when there\n",
        "        # is no more data available to calculate the next state:\n",
        "        try:\n",
        "            next_state, reward = step(state, action)\n",
        "        except StopIteration:\n",
        "            # Skip the rest of the loop and end the episode.\n",
        "            # As there is no new `next_state`, updating\n",
        "            # q_value again doesn't make sense\n",
        "            done = True\n",
        "            continue\n",
        "        \n",
        "        rewards += reward\n",
        "        \n",
        "        # Q-Learning update\n",
        "        q_value[state[0], state[1], action] += step_size * (\n",
        "                reward + GAMMA * np.max(q_value[next_state[0], next_state[1], :]) -\n",
        "                q_value[state[0], state[1], action])\n",
        "        state = next_state\n",
        "        iteration +=1\n",
        "    return rewards"
      ],
      "execution_count": null,
      "outputs": []
    },
    {
      "cell_type": "markdown",
      "metadata": {
        "id": "YXs6Ks_FTOl1"
      },
      "source": [
        "#### Printing the learned policies"
      ]
    },
    {
      "cell_type": "markdown",
      "metadata": {
        "id": "Awtkea2uTOl1"
      },
      "source": [
        "This function will allow us to inspect the optimal action learned for each of the possible states"
      ]
    },
    {
      "cell_type": "code",
      "metadata": {
        "id": "HHTusqh0TOl1"
      },
      "source": [
        "def print_optimal_policy(q_value):\n",
        "    \n",
        "    optimal_policy = np.argmax(q_value, axis=-1)\n",
        "    print(\"ask fill prob:\", *['%.2f' % q for q in  FILL_PROBS])\n",
        "    \n",
        "    for i in range(0, NUM_INV_STEPS):\n",
        "        \n",
        "        # positions ={'flat': 0, 'long': 2, 'short':1}\n",
        "        str_=\"\"\n",
        "        if (i==0):\n",
        "            str_ += '         flat     '\n",
        "        elif(i==1):\n",
        "            str_ += '        short     '\n",
        "        else:\n",
        "            str_ += '         long     '\n",
        "            \n",
        "        for j in range(0, NUM_PROB_STEPS): \n",
        "            a = np.int(optimal_policy[i,j])\n",
        "            # actions = {'buy':2, 'sell':0, 'hold': 1}\n",
        "            if a == 0:\n",
        "                str_ += 's    '\n",
        "            elif a ==1:\n",
        "                str_ += 'h    ' \n",
        "            elif a==2:\n",
        "                str_ += 'b    '  \n",
        "            elif a==3:\n",
        "                str_ += 'mb   '\n",
        "            else:\n",
        "                str_ += 'ms   '\n",
        "        print(str_)"
      ],
      "execution_count": null,
      "outputs": []
    },
    {
      "cell_type": "markdown",
      "metadata": {
        "id": "AD4idZy5TOl1"
      },
      "source": [
        "#### Set up the epsilon decay\n",
        "\n",
        "We decrease the value of epsilon with each epoch - epsilon must approach zero as the number of episodes increases in order to ensure that the q-value function converges to the optimum\n",
        "\n",
        "The following figure demonstrates the exponential decay we are going to use."
      ]
    },
    {
      "cell_type": "code",
      "metadata": {
        "colab": {
          "base_uri": "https://localhost:8080/",
          "height": 279
        },
        "id": "6WsT8KmRTOl1",
        "outputId": "839918fa-f91e-4bd0-8d19-9f42b448273a"
      },
      "source": [
        "%matplotlib inline\n",
        "\n",
        "eps = 0.5\n",
        "epis = 150\n",
        "epoch = 15\n",
        "\n",
        "plt.plot([eps*((1-eps)**(i//epoch)) for i in range(epis)])\n",
        "plt.xlabel('Episode')\n",
        "plt.ylabel('Epsilon');"
      ],
      "execution_count": null,
      "outputs": [
        {
          "output_type": "display_data",
          "data": {
            "image/png": "[encoded data removed]",
            "text/plain": [
              "<Figure size 432x288 with 1 Axes>"
            ]
          },
          "metadata": {
            "tags": []
          }
        }
      ]
    },
    {
      "cell_type": "markdown",
      "metadata": {
        "id": "x-zLuR0HTOl2"
      },
      "source": [
        "### Running Sarsa and Q-learning "
      ]
    },
    {
      "cell_type": "code",
      "metadata": {
        "id": "AsTFvxBOTOl2"
      },
      "source": [
        "def train(policy, episodes=150):\n",
        "    if policy == 'sarsa':\n",
        "        learning_alg = sarsa\n",
        "    elif policy == 'q-learning':\n",
        "        learning_alg = q_learning\n",
        "    else:\n",
        "        raise ValueError(\"choose 'sarsa' or 'q-learning'\")\n",
        "    \n",
        "    epoch_length = 15\n",
        "    \n",
        "    # Initialise the rewards vector and state-action values array\n",
        "    rewards = np.zeros(episodes)\n",
        "    q_value = np.zeros(Q_DIMS)\n",
        "    \n",
        "    print('Training {}...'.format(policy))\n",
        "    for i in tqdm(range(0, episodes)):\n",
        "        eps = EPSILON*((1-EPSILON)**(i//epoch_length))\n",
        "        rewards[i] = learning_alg(q_value, eps=eps)\n",
        "    \n",
        "    return q_value, rewards"
      ],
      "execution_count": null,
      "outputs": []
    },
    {
      "cell_type": "code",
      "metadata": {
        "colab": {
          "background_save": true,
          "base_uri": "https://localhost:8080/",
          "height": 132,
          "referenced_widgets": [
            "a06d819c0f4c4652aca212a16480a156",
            "eaf175d3971241459d18b0837b4989e2",
            "99fcba7dd35f4ac0b5b6fc6eaa5d554a",
            "95fc866b97134b3cb962b9aa4d6ed30d",
            "4ff31b04e89340f6adb64eb9c1a0f700",
            "f67d14adac2d4513a544766b226fb64c",
            "5968b8b70d3243ad8e13ed4d3f89915a",
            "5442c6cc8f174b9bbbc2c3e38af8f0ae",
            "f0d0239fd77f416aaf64e7b7854f376e",
            "e60e7938140541d39de5893d64c75a23",
            "601a8455ed2a444f89b1fbeb1f9abf7a",
            "eeb30c3dc91442b5bedc9b66b603f1d7",
            "ca9f755e015b4bc2b297ea8650a611be",
            "18a132d280564348a4ee965d8e7e4bc7",
            "63456a52f6154c3695790d041fba6816",
            "5743efca01cf4c0e9fcb9670a07561d6"
          ]
        },
        "id": "b4YQMdP3TOl2",
        "scrolled": false,
        "outputId": "6f1d120b-c2d0-4fd1-d503-6c5db648ca9b"
      },
      "source": [
        "q_sarsa, rewards_sarsa = train('sarsa')\n",
        "q_q_learning, rewards_q_learning = train('q-learning')"
      ],
      "execution_count": null,
      "outputs": [
        {
          "output_type": "stream",
          "text": [
            "Training sarsa...\n"
          ],
          "name": "stdout"
        },
        {
          "output_type": "display_data",
          "data": {
            "application/vnd.jupyter.widget-view+json": {
              "model_id": "a06d819c0f4c4652aca212a16480a156",
              "version_major": 2,
              "version_minor": 0
            },
            "text/plain": [
              "HBox(children=(FloatProgress(value=0.0, max=150.0), HTML(value='')))"
            ]
          },
          "metadata": {
            "tags": []
          }
        },
        {
          "output_type": "stream",
          "text": [
            "\n",
            "Training q-learning...\n"
          ],
          "name": "stdout"
        },
        {
          "output_type": "display_data",
          "data": {
            "application/vnd.jupyter.widget-view+json": {
              "model_id": "f0d0239fd77f416aaf64e7b7854f376e",
              "version_major": 2,
              "version_minor": 0
            },
            "text/plain": [
              "HBox(children=(FloatProgress(value=0.0, max=150.0), HTML(value='')))"
            ]
          },
          "metadata": {
            "tags": []
          }
        },
        {
          "output_type": "stream",
          "text": [
            "\n"
          ],
          "name": "stdout"
        }
      ]
    },
    {
      "cell_type": "code",
      "metadata": {
        "colab": {
          "background_save": true
        },
        "id": "vN29Hcw7TOl2",
        "outputId": "23381b5f-1ec4-4ad0-fced-ed4ce2b30882"
      },
      "source": [
        "print('SARSA')\n",
        "print_optimal_policy(q_sarsa)\n",
        "print('Q-learning')\n",
        "print_optimal_policy(q_q_learning)"
      ],
      "execution_count": null,
      "outputs": [
        {
          "output_type": "stream",
          "text": [
            "SARSA\n",
            "ask fill prob: 0.00 0.11 0.22 0.33 0.44 0.56 0.67 0.78 0.89 1.00\n",
            "         flat     mb   mb   mb   mb   mb   mb   mb   mb   mb   mb   \n",
            "        short     s    s    s    s    s    s    s    s    s    s    \n",
            "         long     b    b    b    b    b    b    b    b    b    b    \n",
            "Q-learning\n",
            "ask fill prob: 0.00 0.11 0.22 0.33 0.44 0.56 0.67 0.78 0.89 1.00\n",
            "         flat     s    h    h    h    h    h    h    h    h    h    \n",
            "        short     s    s    s    s    s    s    s    s    s    s    \n",
            "         long     s    h    h    h    h    h    h    h    h    h    \n"
          ],
          "name": "stdout"
        }
      ]
    },
    {
      "cell_type": "code",
      "metadata": {
        "colab": {
          "background_save": true
        },
        "id": "YK2SivBh1Gmw",
        "outputId": "4fbb718c-24f8-4b8b-9801-3219755b99f1"
      },
      "source": [
        "q_q_learning"
      ],
      "execution_count": null,
      "outputs": [
        {
          "output_type": "execute_result",
          "data": {
            "text/plain": [
              "array([[[ 0.        ,  0.        , -0.5       ,  0.        ,\n",
              "          0.        ],\n",
              "        [-0.0671403 ,  0.        , -0.45792124,  0.        ,\n",
              "          0.        ],\n",
              "        [-0.14250157,  0.        , -0.3420517 ,  0.        ,\n",
              "          0.        ],\n",
              "        [-0.16249483,  0.        , -0.35692183,  0.        ,\n",
              "          0.        ],\n",
              "        [-0.1950137 ,  0.        , -0.37036419,  0.        ,\n",
              "          0.        ],\n",
              "        [-0.2718104 ,  0.        , -0.21334669,  0.        ,\n",
              "          0.        ],\n",
              "        [-0.29339606,  0.        , -0.13922324,  0.        ,\n",
              "          0.        ],\n",
              "        [-0.3710839 ,  0.        , -0.0806717 ,  0.        ,\n",
              "          0.        ],\n",
              "        [-0.46356713,  0.        , -0.02160613,  0.        ,\n",
              "          0.        ],\n",
              "        [-0.5       ,  0.        ,  0.        ,  0.        ,\n",
              "          0.        ]],\n",
              "\n",
              "       [[ 0.        ,  0.        , -0.34720405, -0.44024723,\n",
              "          0.        ],\n",
              "        [ 0.        ,  0.        , -0.3281476 , -0.41638828,\n",
              "          0.        ],\n",
              "        [ 0.        ,  0.        , -0.18714564, -0.47282613,\n",
              "          0.        ],\n",
              "        [ 0.        ,  0.        , -0.20799458, -0.44156054,\n",
              "          0.        ],\n",
              "        [ 0.        ,  0.        , -0.15018586, -0.46345361,\n",
              "          0.        ],\n",
              "        [ 0.        ,  0.        , -0.16365921, -0.47163428,\n",
              "          0.        ],\n",
              "        [ 0.        ,  0.        , -0.19432278, -0.5513348 ,\n",
              "          0.        ],\n",
              "        [ 0.        ,  0.        , -0.15137106, -0.47600542,\n",
              "          0.        ],\n",
              "        [ 0.        ,  0.        , -0.03157713, -0.5947095 ,\n",
              "          0.        ],\n",
              "        [ 0.        ,  0.        ,  0.        , -0.56064329,\n",
              "          0.        ]],\n",
              "\n",
              "       [[ 0.        ,  0.        ,  0.        ,  0.        ,\n",
              "         -0.57238874],\n",
              "        [-0.06205248,  0.        ,  0.        ,  0.        ,\n",
              "         -0.51744339],\n",
              "        [-0.11427754,  0.        ,  0.        ,  0.        ,\n",
              "         -0.63363956],\n",
              "        [-0.18966591,  0.        ,  0.        ,  0.        ,\n",
              "         -0.62383207],\n",
              "        [-0.21702654,  0.        ,  0.        ,  0.        ,\n",
              "         -0.67846994],\n",
              "        [-0.19219257,  0.        ,  0.        ,  0.        ,\n",
              "         -0.65445993],\n",
              "        [-0.21129133,  0.        ,  0.        ,  0.        ,\n",
              "         -0.47165562],\n",
              "        [-0.3214917 ,  0.        ,  0.        ,  0.        ,\n",
              "         -0.45371838],\n",
              "        [-0.34888749,  0.        ,  0.        ,  0.        ,\n",
              "         -0.49139186],\n",
              "        [-0.35335582,  0.        ,  0.        ,  0.        ,\n",
              "         -0.54921953]]])"
            ]
          },
          "metadata": {
            "tags": []
          },
          "execution_count": 0
        }
      ]
    },
    {
      "cell_type": "code",
      "metadata": {
        "colab": {
          "background_save": true
        },
        "id": "75kHMpYaK5bY",
        "outputId": "38f04f89-5b9e-4bdf-ebdc-fe7d6680b185"
      },
      "source": [
        "print(rewards_sarsa)\n",
        "rewards_q_learning"
      ],
      "execution_count": null,
      "outputs": [
        {
          "output_type": "stream",
          "text": [
            "[-42170.10000001 -41971.90000001 -42533.10000001 -42140.30000001\n",
            " -42090.80000001 -42549.50000001 -42560.00000001 -42328.70000001\n",
            " -42239.10000001 -42187.70000001 -42067.50000001 -42238.30000001\n",
            " -42352.00000001 -42215.10000001 -42079.60000001 -22253.3\n",
            " -22275.         -22391.1        -22077.2        -22225.2\n",
            " -22226.8        -21992.         -22135.1        -22013.2\n",
            " -22115.6        -22069.7        -22148.5        -22073.1\n",
            " -22197.6        -22143.3        -11458.9        -11501.7\n",
            " -11557.8        -11602.2        -11523.9        -11504.6\n",
            " -11494.7        -11470.6        -11404.6        -11481.\n",
            " -11476.1        -11507.2        -11404.         -11498.\n",
            " -11422.9         -5873.4         -5883.8         -5856.7\n",
            "  -5963.5         -5910.9         -5903.          -5712.6\n",
            "  -5914.1         -5851.          -5968.6         -5868.5\n",
            "  -5855.8         -5745.4         -5758.2         -5913.4\n",
            "  -2988.5         -2943.          -3015.3         -2907.6\n",
            "  -3022.8         -2920.5         -2983.8         -2975.3\n",
            "  -2898.5         -3006.5         -2881.5         -2941.2\n",
            "  -3007.2         -2998.7         -2971.7         -1523.4\n",
            "  -1449.3         -1497.7         -1464.8         -1459.5\n",
            "  -1465.6         -1421.9         -1469.6         -1476.6\n",
            "  -1461.3         -1472.5         -1471.7         -1519.1\n",
            "  -1469.7         -1498.5          -773.6          -722.7\n",
            "   -719.9          -684.3          -740.5          -728.2\n",
            "   -735.9          -779.5          -710.2          -738.3\n",
            "   -675.1          -744.3          -709.7          -792.9\n",
            "   -733.9          -348.6          -342.           -366.4\n",
            "   -394.9          -371.8          -351.3          -376.1\n",
            "   -361.4          -359.3          -375.8          -353.6\n",
            "   -362.2          -365.8          -371.4          -370.2\n",
            "   -192.5          -182.3          -193.2          -166.2\n",
            "   -184.6          -177.           -186.2          -185.7\n",
            "   -178.8          -173.2          -189.7          -178.6\n",
            "   -163.2          -160.9          -177.9           -93.\n",
            "    -85.4           -91.8           -87.8           -92.5\n",
            "    -81.7          -109.           -109.            -87.8\n",
            "    -92.9           -94.5           -77.6          -104.5\n",
            "    -88.5           -81.7       ]\n"
          ],
          "name": "stdout"
        },
        {
          "output_type": "execute_result",
          "data": {
            "text/plain": [
              "array([-38441.9, -38221.8, -38274. , -38061.7, -38369.6, -38559. ,\n",
              "       -38296.6, -38361.4, -38236.4, -38483.9, -38317.2, -38321.8,\n",
              "       -38368.1, -38165.2, -38500.7, -19354.9, -19238.3, -19257.3,\n",
              "       -19208. , -19185.1, -19275. , -19128.3, -19298.2, -19261. ,\n",
              "       -19259.6, -19030. , -19148.8, -19379.2, -19125.5, -19408.9,\n",
              "        -9520.8,  -9578. ,  -9660.9,  -9767.6,  -9572.1,  -9669.8,\n",
              "        -9577.2,  -9577.6,  -9643. ,  -9657.8,  -9652.9,  -9729.5,\n",
              "        -9711. ,  -9441.3,  -9651.7,  -4906.4,  -4872. ,  -4855.6,\n",
              "        -4873.5,  -4862.3,  -4874.2,  -4788.7,  -4891.3,  -4978.2,\n",
              "        -4867.8,  -4855. ,  -4942.3,  -4837.4,  -4753.1,  -4886.7,\n",
              "        -2438.7,  -2510.3,  -2483.9,  -2416.9,  -2438.7,  -2420.3,\n",
              "        -2431.3,  -2457.2,  -2430.1,  -2375.3,  -2405.5,  -2439.5,\n",
              "        -2429.3,  -2431.6,  -2420.1,  -1199.1,  -1227.2,  -1237.9,\n",
              "        -1247.6,  -1202.3,  -1257. ,  -1210.6,  -1220.5,  -1249. ,\n",
              "        -1222.9,  -1260.3,  -1189.4,  -1218.3,  -1234.9,  -1254.7,\n",
              "         -619.4,   -609.2,   -578.4,   -613.6,   -624.3,   -595.4,\n",
              "         -647.8,   -634.5,   -619.7,   -615.5,   -626.7,   -646. ,\n",
              "         -623.2,   -593.1,   -615.8,   -313.9,   -321.4,   -292.3,\n",
              "         -321.2,   -313. ,   -321.2,   -320. ,   -311.2,   -326.6,\n",
              "         -323.8,   -308. ,   -314.1,   -312.1,   -299. ,   -305.4,\n",
              "         -163. ,   -153. ,   -165.5,   -137.8,   -154.7,   -161.6,\n",
              "         -153.5,   -155.8,   -150.6,   -158. ,   -143.2,   -157.3,\n",
              "         -150.7,   -147. ,   -151.9,    -82.9,    -77.8,    -81.2,\n",
              "          -87.7,    -84.8,    -67.8,    -76.6,    -88.5,    -82.8,\n",
              "          -71.5,    -80.8,    -79.6,    -80.9,    -65.7,    -81.3])"
            ]
          },
          "metadata": {
            "tags": []
          },
          "execution_count": 0
        }
      ]
    },
    {
      "cell_type": "code",
      "metadata": {
        "colab": {
          "background_save": true
        },
        "id": "Eyb6PiJ0TOl2",
        "outputId": "f4b311fd-f90f-4b5c-8711-a77d859c7c84"
      },
      "source": [
        "%matplotlib inline\n",
        "plt.figure(figsize=(13,8))\n",
        "plt.plot(rewards_q_learning, label='Q-Learning')\n",
        "plt.plot(rewards_sarsa, label='SARSA')\n",
        "plt.xlabel('Episodes')\n",
        "plt.ylabel('Sum of rewards during episode')\n",
        "plt.legend();"
      ],
      "execution_count": null,
      "outputs": [
        {
          "output_type": "display_data",
          "data": {
            "image/png": "[encoded data removed]",
            "text/plain": [
              "<Figure size 936x576 with 1 Axes>"
            ]
          },
          "metadata": {
            "tags": []
          }
        }
      ]
    },
    {
      "cell_type": "markdown",
      "metadata": {
        "id": "MIvYvuMyTOl2"
      },
      "source": [
        "### Animation of the resulting market making strategy"
      ]
    },
    {
      "cell_type": "markdown",
      "metadata": {
        "id": "PIVXSKm6TOl2"
      },
      "source": [
        "This code below will run through the dataset, taking actions according to the state-action values learned during the training process above. \n",
        "\n",
        "You can choose to use either of the strategies learned by SARSA and Q-learning by assigning them to the `view_strategy` variable."
      ]
    },
    {
      "cell_type": "code",
      "metadata": {
        "colab": {
          "background_save": true
        },
        "id": "SUP7LEtGTOl2",
        "outputId": "69237083-3527-478e-a28d-20846c385f7a"
      },
      "source": [
        "view_strategy = q_q_learning\n",
        "#view_strategy = q_sarsa\n",
        "view_strategy"
      ],
      "execution_count": null,
      "outputs": [
        {
          "output_type": "execute_result",
          "data": {
            "text/plain": [
              "array([[[ 0.        ,  0.        , -0.5       ,  0.        ,\n",
              "          0.        ],\n",
              "        [-0.0671403 ,  0.        , -0.45792124,  0.        ,\n",
              "          0.        ],\n",
              "        [-0.14250157,  0.        , -0.3420517 ,  0.        ,\n",
              "          0.        ],\n",
              "        [-0.16249483,  0.        , -0.35692183,  0.        ,\n",
              "          0.        ],\n",
              "        [-0.1950137 ,  0.        , -0.37036419,  0.        ,\n",
              "          0.        ],\n",
              "        [-0.2718104 ,  0.        , -0.21334669,  0.        ,\n",
              "          0.        ],\n",
              "        [-0.29339606,  0.        , -0.13922324,  0.        ,\n",
              "          0.        ],\n",
              "        [-0.3710839 ,  0.        , -0.0806717 ,  0.        ,\n",
              "          0.        ],\n",
              "        [-0.46356713,  0.        , -0.02160613,  0.        ,\n",
              "          0.        ],\n",
              "        [-0.5       ,  0.        ,  0.        ,  0.        ,\n",
              "          0.        ]],\n",
              "\n",
              "       [[ 0.        ,  0.        , -0.34720405, -0.44024723,\n",
              "          0.        ],\n",
              "        [ 0.        ,  0.        , -0.3281476 , -0.41638828,\n",
              "          0.        ],\n",
              "        [ 0.        ,  0.        , -0.18714564, -0.47282613,\n",
              "          0.        ],\n",
              "        [ 0.        ,  0.        , -0.20799458, -0.44156054,\n",
              "          0.        ],\n",
              "        [ 0.        ,  0.        , -0.15018586, -0.46345361,\n",
              "          0.        ],\n",
              "        [ 0.        ,  0.        , -0.16365921, -0.47163428,\n",
              "          0.        ],\n",
              "        [ 0.        ,  0.        , -0.19432278, -0.5513348 ,\n",
              "          0.        ],\n",
              "        [ 0.        ,  0.        , -0.15137106, -0.47600542,\n",
              "          0.        ],\n",
              "        [ 0.        ,  0.        , -0.03157713, -0.5947095 ,\n",
              "          0.        ],\n",
              "        [ 0.        ,  0.        ,  0.        , -0.56064329,\n",
              "          0.        ]],\n",
              "\n",
              "       [[ 0.        ,  0.        ,  0.        ,  0.        ,\n",
              "         -0.57238874],\n",
              "        [-0.06205248,  0.        ,  0.        ,  0.        ,\n",
              "         -0.51744339],\n",
              "        [-0.11427754,  0.        ,  0.        ,  0.        ,\n",
              "         -0.63363956],\n",
              "        [-0.18966591,  0.        ,  0.        ,  0.        ,\n",
              "         -0.62383207],\n",
              "        [-0.21702654,  0.        ,  0.        ,  0.        ,\n",
              "         -0.67846994],\n",
              "        [-0.19219257,  0.        ,  0.        ,  0.        ,\n",
              "         -0.65445993],\n",
              "        [-0.21129133,  0.        ,  0.        ,  0.        ,\n",
              "         -0.47165562],\n",
              "        [-0.3214917 ,  0.        ,  0.        ,  0.        ,\n",
              "         -0.45371838],\n",
              "        [-0.34888749,  0.        ,  0.        ,  0.        ,\n",
              "         -0.49139186],\n",
              "        [-0.35335582,  0.        ,  0.        ,  0.        ,\n",
              "         -0.54921953]]])"
            ]
          },
          "metadata": {
            "tags": []
          },
          "execution_count": 0
        }
      ]
    },
    {
      "cell_type": "code",
      "metadata": {
        "id": "JeB6NY-QTOl2",
        "scrolled": false
      },
      "source": [
        "%matplotlib nbagg\n",
        "%matplotlib nbagg\n",
        "\n",
        "fig = plt.figure(figsize=(12, 8))\n",
        "\n",
        "gs = GridSpec(2,2) # 2 rows, 2 columns\n",
        "\n",
        "ax1 = fig.add_subplot(gs[0,0]) # First row, first column\n",
        "ax2 = fig.add_subplot(gs[0,1]) # First row, second column\n",
        "ax3 = fig.add_subplot(gs[1,0]) # Second row, first column\n",
        "\n",
        "bids = []\n",
        "asks = []\n",
        "bid_fills = []\n",
        "xdata = []\n",
        "pnl = []\n",
        "\n",
        "done = False\n",
        "state = get_initial_state(data_generator)\n",
        "rewards = 0.0\n",
        "iteration = 0\n",
        "\n",
        "while iteration < MAX_ITER and not done:\n",
        "    try:\n",
        "        start_time = time.time()\n",
        "        prev_position_name = [name for name, pos in positions.items() if pos == state[0]][0] \n",
        "        \n",
        "        action = np.argmax(view_strategy[state[0], state[1], :])\n",
        "        try:\n",
        "            state, reward = step(state, action)\n",
        "        except StopIteration:\n",
        "            done = True\n",
        "            print('Stopped at time step', iteration)\n",
        "            continue\n",
        "        iteration += 1\n",
        "        \n",
        "        position_name = [name for name, pos in positions.items() if pos == state[0]][0] \n",
        "        action_name = [name for name, act in actions.items() if act == action][0]                    \n",
        "        prices = state[2]\n",
        "        if state[3] is None:\n",
        "            entry_price = 'n/a'\n",
        "        else:\n",
        "            entry_price = \"%.2f\" % state[3]\n",
        "        \n",
        "        # Cumulative PnL\n",
        "        if len(pnl) == 0:\n",
        "            pnl.append(reward)\n",
        "        else: \n",
        "            pnl.append(pnl[-1]+reward)\n",
        "\n",
        "        bids.append(prices['bid'])\n",
        "        asks.append(prices['ask'])\n",
        "        xdata.append(iteration)\n",
        "        \n",
        "        # Plot most recent 80 prices\n",
        "        ax1.plot(xdata, \n",
        "                 bids, color = 'black')\n",
        "        ax1.plot(xdata, \n",
        "                 asks, color = 'black')\n",
        "        ax1.set_ylabel('Prices')\n",
        "        ax1.set_xlabel('Iteration')\n",
        "        ax1.set_title('Cumulated PnL: ' + \"%.2f\" % pnl[-1] + ' ~ '\n",
        "                     + 'Position: ' + position_name + ' ~ '\n",
        "                     + 'Entry Price: ' + entry_price)\n",
        "        ax1.set_xlim([max(0, iteration - 80.5), iteration + 0.5])\n",
        "\n",
        "        # Plotting actions taken according to the Policy\n",
        "        if position_name != prev_position_name:\n",
        "            if action == actions['sell']:\n",
        "                ax1.scatter(iteration, prices['bid']+0.1, \n",
        "                        color='orangered', marker='v', s=50)\n",
        "            elif action == actions['buy']:\n",
        "                ax1.scatter(iteration, prices['ask']-0.1, \n",
        "                        color='lawngreen', marker='^', s=50)\n",
        "        \n",
        "        # Ploting PnL\n",
        "        ax2.clear()\n",
        "        ax2.plot(xdata, pnl)\n",
        "        ax2.set_ylabel('Total PnL')\n",
        "        ax2.set_xlabel('Iteration')\n",
        "\n",
        "        # Plotting current probabilities to fill\n",
        "        q_a = FILL_PROBS[state[1]]\n",
        "        q_b = 1 - q_a\n",
        "        performance = [q_b, q_a]\n",
        "\n",
        "        ax3.clear()\n",
        "        ax3.bar([0, 1], [q_b, q_a], align='center', alpha=0.5, \n",
        "                color=['orangered','lawngreen'])\n",
        "        ax3.set_xticks([0, 1])\n",
        "        ax3.set_xticklabels(['bid', 'ask'])\n",
        "        ax3.set_title('Probability of fill')\n",
        "        ax3.set_ylim([0, 1])\n",
        "        fig.tight_layout()\n",
        "        fig.canvas.draw()\n",
        "        time.sleep(max(0, 0.5 - (time.time() - start_time)))\n",
        "        \n",
        "    except KeyboardInterrupt:\n",
        "        print('Animation stopped')\n",
        "        break"
      ],
      "execution_count": null,
      "outputs": []
    },
    {
      "cell_type": "code",
      "metadata": {
        "id": "bM6AvxFdTOl3"
      },
      "source": [
        ""
      ],
      "execution_count": null,
      "outputs": []
    }
  ]
}