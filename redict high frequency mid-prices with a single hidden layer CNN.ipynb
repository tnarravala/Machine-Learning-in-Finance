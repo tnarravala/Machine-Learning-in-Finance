{
  "nbformat": 4,
  "nbformat_minor": 0,
  "metadata": {
    "colab": {
      "name": "HW#4.ipynb",
      "provenance": [],
      "collapsed_sections": []
    },
    "kernelspec": {
      "name": "python3",
      "display_name": "Python 3"
    }
  },
  "cells": [
    {
      "cell_type": "code",
      "metadata": {
        "id": "7y-YrbzuBR5c",
        "outputId": "5fb3aa87-71e1-41c7-d2a9-6a47de482407",
        "colab": {
          "base_uri": "https://localhost:8080/",
          "height": 34
        }
      },
      "source": [
        "%tensorflow_version 1.x\n",
        "import numpy as np\n",
        "import pandas as pd\n",
        "import matplotlib.pyplot as plt\n",
        "import statsmodels.api as sm\n",
        "import tensorflow as tf\n",
        "\n",
        "from sklearn.metrics import mean_squared_error\n",
        "from sklearn.model_selection import KFold, TimeSeriesSplit, GridSearchCV\n",
        "\n",
        "import keras.initializers\n",
        "from keras.layers import Conv1D, Dense, MaxPooling1D, Flatten\n",
        "from keras.layers import Dense, Layer, LSTM, GRU, SimpleRNN, RNN\n",
        "from keras.models import Sequential\n",
        "from keras.models import load_model\n",
        "from keras.regularizers import l1, l2\n",
        "from keras.callbacks import EarlyStopping\n",
        "from keras.wrappers.scikit_learn import KerasRegressor\n",
        "\n",
        "# note that the directory containing these two .py's must be in the path variable:\n",
        "from google.colab import drive\n",
        "drive.mount('/content/drive')\n",
        "import os\n",
        "os.chdir(\"/content/drive/My Drive\")\n",
        "os.listdir()\n",
        "\n",
        "\n",
        "from alphaRNN import AlphaRNN\n",
        "from alphatRNN import AlphatRNN"
      ],
      "execution_count": 19,
      "outputs": [
        {
          "output_type": "stream",
          "text": [
            "Drive already mounted at /content/drive; to attempt to forcibly remount, call drive.mount(\"/content/drive\", force_remount=True).\n"
          ],
          "name": "stdout"
        }
      ]
    },
    {
      "cell_type": "code",
      "metadata": {
        "id": "rD6S6qIABX55"
      },
      "source": [
        "%matplotlib inline"
      ],
      "execution_count": 3,
      "outputs": []
    },
    {
      "cell_type": "code",
      "metadata": {
        "id": "_6k3-Mb4BnTr"
      },
      "source": [
        "df = pd.read_csv('HFT.csv')"
      ],
      "execution_count": 4,
      "outputs": []
    },
    {
      "cell_type": "code",
      "metadata": {
        "id": "3Kkaz1Q1BsyU"
      },
      "source": [
        "use_features = ['feature_3'] # continuous input\n",
        "target = ['feature_3'] # continuous output\n",
        "n_steps_ahead = 10 # forecasting horizon"
      ],
      "execution_count": 5,
      "outputs": []
    },
    {
      "cell_type": "code",
      "metadata": {
        "id": "oYIHiNARCyna"
      },
      "source": [
        "sample = df['feature_3'][:200000]\n",
        "adf, p, usedlag, nobs, cvs, aic = sm.tsa.stattools.adfuller(sample)"
      ],
      "execution_count": 6,
      "outputs": []
    },
    {
      "cell_type": "code",
      "metadata": {
        "id": "rUn6FUoqEr5k",
        "outputId": "b72f2c55-de35-471c-86ed-0633e5c64985",
        "colab": {
          "base_uri": "https://localhost:8080/",
          "height": 85
        }
      },
      "source": [
        "adf_results_string = 'ADF: {}\\np-value: {},\\nN: {}, \\ncritical values: {}'\n",
        "print(adf_results_string.format(adf, p, nobs, cvs))"
      ],
      "execution_count": 7,
      "outputs": [
        {
          "output_type": "stream",
          "text": [
            "ADF: -3.970572659864128\n",
            "p-value: 0.0015726872209318426,\n",
            "N: 199919, \n",
            "critical values: {'1%': -3.430382710167448, '5%': -2.8615544574611698, '10%': -2.566777695186804}\n"
          ],
          "name": "stdout"
        }
      ]
    },
    {
      "cell_type": "code",
      "metadata": {
        "id": "9Z8t5VC3FJSf"
      },
      "source": [
        "pacf = sm.tsa.stattools.pacf(df[use_features], nlags=30)"
      ],
      "execution_count": 8,
      "outputs": []
    },
    {
      "cell_type": "code",
      "metadata": {
        "id": "--iZvLhEFw0V"
      },
      "source": [
        "T = len(df[use_features])\n",
        "\n",
        "sig_test = lambda tau_h: np.abs(tau_h) > 2.58/np.sqrt(T)"
      ],
      "execution_count": 9,
      "outputs": []
    },
    {
      "cell_type": "code",
      "metadata": {
        "id": "ns4G-rkSFzCa",
        "outputId": "7c5e2def-ec99-4a5f-fd2b-2207d61d8a60",
        "colab": {
          "base_uri": "https://localhost:8080/",
          "height": 34
        }
      },
      "source": [
        "for i in range(len(pacf)):\n",
        "    if sig_test(pacf[i]) == False:\n",
        "        n_steps = i - 1\n",
        "        print('n_steps set to', n_steps)\n",
        "        break"
      ],
      "execution_count": 10,
      "outputs": [
        {
          "output_type": "stream",
          "text": [
            "n_steps set to 23\n"
          ],
          "name": "stdout"
        }
      ]
    },
    {
      "cell_type": "code",
      "metadata": {
        "id": "o5JchgXWF1If",
        "outputId": "6fc8e95b-ca77-47af-f173-b346d8a9dc90",
        "colab": {
          "base_uri": "https://localhost:8080/",
          "height": 279
        }
      },
      "source": [
        "plt.plot(pacf, label='pacf')\n",
        "plt.plot([2.58/np.sqrt(T)]*30, label='99% confidence interval (upper)')\n",
        "plt.plot([-2.58/np.sqrt(T)]*30, label='99% confidence interval (lower)')\n",
        "plt.xlabel('number of lags')\n",
        "plt.xticks(np.arange(0, 30, 2))\n",
        "plt.legend();"
      ],
      "execution_count": 11,
      "outputs": [
        {
          "output_type": "display_data",
          "data": {
            "image/png": "[encoded data removed]",
            "text/plain": [
              "<Figure size 432x288 with 1 Axes>"
            ]
          },
          "metadata": {
            "tags": [],
            "needs_background": "light"
          }
        }
      ]
    },
    {
      "cell_type": "code",
      "metadata": {
        "id": "nFHR70R3F4Dx"
      },
      "source": [
        "train_weight = 0.8\n",
        "split = int(len(df)*train_weight)\n",
        "\n",
        "df_train = df[use_features].iloc[:split]\n",
        "df_test = df[use_features].iloc[split:]"
      ],
      "execution_count": 12,
      "outputs": []
    },
    {
      "cell_type": "code",
      "metadata": {
        "id": "FQ18Vv8DamYL"
      },
      "source": [
        "def make_CNN(window_size, filter_length,  nb_filter=4, nb_input_series=1, nb_outputs=1):\n",
        "    \"\"\"\n",
        "    window_size (int): number of observations in each input sequence\n",
        "    filter length (int): length of the convolutional layer's filters\n",
        "    nb_filter (int): number of filters learned in the convolutional layer\n",
        "    nb_input_series (int): number of features of the input timeseries (1 for a univariate timeseries)\n",
        "    nb_outputs (int): number of features being predicted (equal to nb_input_series \n",
        "        for predicting a timeseries at a set horizon)\n",
        "    \"\"\"\n",
        "    model = Sequential((\n",
        "        # The convolutional layer learns `nb_filter` filters (aka kernels), \n",
        "        # each of size `(filter_length, nb_input_series)`.  \n",
        "        # Its output will have shape `(None, window_size - filter_length + 1, nb_filter)` ,  \n",
        "        # i.e., for each position in the input timeseries, the activation of each filter at that position.\n",
        "        Conv1D(filters=nb_filter, kernel_size=filter_length, activation='relu',kernel_regularizer=l1(0.01), input_shape=(window_size, nb_input_series)),\n",
        "        Flatten(),\n",
        "        Dense(nb_outputs, activation='linear'), # For classification, a 'sigmoid' activation function would be used\n",
        "    ))\n",
        "    model.compile(loss='mse', optimizer='adam', metrics=['mae'])\n",
        "    \n",
        "    return model"
      ],
      "execution_count": 18,
      "outputs": []
    },
    {
      "cell_type": "code",
      "metadata": {
        "id": "KLy3t3_FL_nM"
      },
      "source": [
        "def get_lagged_features(df, n_steps, n_steps_ahead):\n",
        "    \"\"\"\n",
        "    df: pandas DataFrame of time series to be lagged\n",
        "    n_steps: number of lags, i.e. sequence length\n",
        "    n_steps_ahead: forecasting horizon\n",
        "    \"\"\"\n",
        "    lag_list = []\n",
        "    for lag in range(n_steps + n_steps_ahead - 1, n_steps_ahead - 1, -1):\n",
        "        lag_list.append(df.shift(lag))\n",
        "    lag_array = np.dstack([i[n_steps+n_steps_ahead-1:] for i in lag_list])\n",
        "    # We swap the last two dimensions so each slice along the first dimension\n",
        "    # is the same shape as the corresponding segment of the input time series \n",
        "    lag_array = np.swapaxes(lag_array, 1, -1)\n",
        "    return lag_array"
      ],
      "execution_count": 13,
      "outputs": []
    },
    {
      "cell_type": "code",
      "metadata": {
        "id": "KSzAHpOWaSi_"
      },
      "source": [
        "x_train = get_lagged_features(df_train[use_features], n_steps, n_steps_ahead)\n",
        "y_train =  df_train[target].values[n_steps + n_steps_ahead - 1:]\n",
        "\n",
        "x_test = get_lagged_features(df_test[use_features], n_steps, n_steps_ahead)\n",
        "y_test =  df_test[target].values[n_steps + n_steps_ahead - 1:]"
      ],
      "execution_count": 14,
      "outputs": []
    },
    {
      "cell_type": "code",
      "metadata": {
        "id": "86wf-lEzaV1G"
      },
      "source": [
        "es = EarlyStopping(monitor='loss', mode='min', verbose=1, patience=50, min_delta=3e-3, restore_best_weights=True)"
      ],
      "execution_count": 15,
      "outputs": []
    },
    {
      "cell_type": "code",
      "metadata": {
        "id": "xIO1q8FnaqZQ"
      },
      "source": [
        "CNN_model = make_CNN(window_size=23, filter_length=10, nb_filter=6)"
      ],
      "execution_count": 28,
      "outputs": []
    },
    {
      "cell_type": "code",
      "metadata": {
        "id": "MoCYuTXraYcE",
        "outputId": "2f764d4e-5c61-4b0b-c702-d99578d8d6a9",
        "colab": {
          "base_uri": "https://localhost:8080/",
          "height": 68
        }
      },
      "source": [
        "CNN_model.fit(x_train, y_train, epochs=1, batch_size=2,callbacks=[es], validation_data=(x_test, y_test))"
      ],
      "execution_count": null,
      "outputs": [
        {
          "output_type": "stream",
          "text": [
            "Train on 826793 samples, validate on 206675 samples\n",
            "Epoch 1/1\n",
            "  6242/826793 [..............................] - ETA: 21:17 - loss: 0.0014 - mae: 0.0176"
          ],
          "name": "stdout"
        }
      ]
    },
    {
      "cell_type": "code",
      "metadata": {
        "id": "C8ivULlnbIFz",
        "outputId": "5afbc86b-3870-455c-c26b-d5081418c3c5",
        "colab": {
          "base_uri": "https://localhost:8080/",
          "height": 51
        }
      },
      "source": [
        "pred_train = CNN_model.predict(x_train, verbose=1)\n",
        "MSE_train = mean_squared_error(y_train, pred_train)\n",
        "    \n",
        "pred_test = CNN_model.predict(x_test, verbose=1) \n",
        "MSE_test = mean_squared_error(y_test, pred_test)"
      ],
      "execution_count": 30,
      "outputs": [
        {
          "output_type": "stream",
          "text": [
            "826793/826793 [==============================] - 16s 20us/step\n",
            "206675/206675 [==============================] - 4s 19us/step\n"
          ],
          "name": "stdout"
        }
      ]
    },
    {
      "cell_type": "code",
      "metadata": {
        "id": "Ab2h6bUpn6VY",
        "outputId": "6af29d44-b10c-4229-fc86-c4e9f61d3645",
        "colab": {
          "base_uri": "https://localhost:8080/",
          "height": 34
        }
      },
      "source": [
        "print(MSE_train,MSE_test)"
      ],
      "execution_count": 31,
      "outputs": [
        {
          "output_type": "stream",
          "text": [
            "0.00019226486757361743 0.0001960625022102386\n"
          ],
          "name": "stdout"
        }
      ]
    },
    {
      "cell_type": "code",
      "metadata": {
        "id": "TV2o6sF8pnml"
      },
      "source": [
        "# number of samples to use for computing test statistic\n",
        "n = 100000"
      ],
      "execution_count": 32,
      "outputs": []
    },
    {
      "cell_type": "code",
      "metadata": {
        "id": "PMRVAuOBqG-B"
      },
      "source": [
        "residual = y_test[-n:] - pred_test[-n:]"
      ],
      "execution_count": 34,
      "outputs": []
    },
    {
      "cell_type": "code",
      "metadata": {
        "id": "PRkyEZoiqLl7"
      },
      "source": [
        "lb, p = sm.stats.diagnostic.acorr_ljungbox(residual, lags=20, boxpierce=False)"
      ],
      "execution_count": 35,
      "outputs": []
    },
    {
      "cell_type": "code",
      "metadata": {
        "id": "lIj2ADlRqOBc",
        "outputId": "f2bd0f8f-4d5d-4ff9-fc40-78ecd5f475ef",
        "colab": {
          "base_uri": "https://localhost:8080/",
          "height": 102
        }
      },
      "source": [
        "lb"
      ],
      "execution_count": 36,
      "outputs": [
        {
          "output_type": "execute_result",
          "data": {
            "text/plain": [
              "array([ 90551.96322632, 171809.46171647, 243505.42588205, 306052.71499627,\n",
              "       359779.80049853, 405100.57678194, 442521.92301082, 472520.35160383,\n",
              "       495656.25823612, 512738.16300869, 524663.43691748, 532717.50450377,\n",
              "       537942.12016125, 541177.01886555, 543052.15862343, 544059.81573437,\n",
              "       544539.95179332, 544717.83345376, 544756.58431791, 544757.19214225])"
            ]
          },
          "metadata": {
            "tags": []
          },
          "execution_count": 36
        }
      ]
    },
    {
      "cell_type": "code",
      "metadata": {
        "id": "sZwy7fQGqRYM",
        "outputId": "49a7046f-5ab6-41d7-829c-7e4a3ab7a222",
        "colab": {
          "base_uri": "https://localhost:8080/",
          "height": 51
        }
      },
      "source": [
        "p"
      ],
      "execution_count": 37,
      "outputs": [
        {
          "output_type": "execute_result",
          "data": {
            "text/plain": [
              "array([0., 0., 0., 0., 0., 0., 0., 0., 0., 0., 0., 0., 0., 0., 0., 0., 0.,\n",
              "       0., 0., 0.])"
            ]
          },
          "metadata": {
            "tags": []
          },
          "execution_count": 37
        }
      ]
    },
    {
      "cell_type": "code",
      "metadata": {
        "id": "A2pNxCnJ5d8b"
      },
      "source": [
        ""
      ],
      "execution_count": null,
      "outputs": []
    }
  ]
}