{
  "nbformat": 4,
  "nbformat_minor": 0,
  "metadata": {
    "accelerator": "GPU",
    "colab": {
      "name": "ML_in_Finance_MarketMaking_Project_GOOG.ipynb",
      "provenance": [],
      "collapsed_sections": []
    },
    "kernelspec": {
      "display_name": "Python 3",
      "language": "python",
      "name": "python3"
    },
    "language_info": {
      "codemirror_mode": {
        "name": "ipython",
        "version": 3
      },
      "file_extension": ".py",
      "mimetype": "text/x-python",
      "name": "python",
      "nbconvert_exporter": "python",
      "pygments_lexer": "ipython3",
      "version": "3.6.10"
    },
    "widgets": {
      "application/vnd.jupyter.widget-state+json": {
        "ca6fee124e8e493b8b3190d955a986ca": {
          "model_module": "@jupyter-widgets/controls",
          "model_name": "HBoxModel",
          "state": {
            "_view_name": "HBoxView",
            "_dom_classes": [],
            "_model_name": "HBoxModel",
            "_view_module": "@jupyter-widgets/controls",
            "_model_module_version": "1.5.0",
            "_view_count": null,
            "_view_module_version": "1.5.0",
            "box_style": "",
            "layout": "IPY_MODEL_3eaf50de9d7d4768b38ee945c93a7059",
            "_model_module": "@jupyter-widgets/controls",
            "children": [
              "IPY_MODEL_a7cb43c6e3c247288020bd6633f0422e",
              "IPY_MODEL_cef1ee8686a144e5b0c524333deafef5"
            ]
          }
        },
        "3eaf50de9d7d4768b38ee945c93a7059": {
          "model_module": "@jupyter-widgets/base",
          "model_name": "LayoutModel",
          "state": {
            "_view_name": "LayoutView",
            "grid_template_rows": null,
            "right": null,
            "justify_content": null,
            "_view_module": "@jupyter-widgets/base",
            "overflow": null,
            "_model_module_version": "1.2.0",
            "_view_count": null,
            "flex_flow": null,
            "width": null,
            "min_width": null,
            "border": null,
            "align_items": null,
            "bottom": null,
            "_model_module": "@jupyter-widgets/base",
            "top": null,
            "grid_column": null,
            "overflow_y": null,
            "overflow_x": null,
            "grid_auto_flow": null,
            "grid_area": null,
            "grid_template_columns": null,
            "flex": null,
            "_model_name": "LayoutModel",
            "justify_items": null,
            "grid_row": null,
            "max_height": null,
            "align_content": null,
            "visibility": null,
            "align_self": null,
            "height": null,
            "min_height": null,
            "padding": null,
            "grid_auto_rows": null,
            "grid_gap": null,
            "max_width": null,
            "order": null,
            "_view_module_version": "1.2.0",
            "grid_template_areas": null,
            "object_position": null,
            "object_fit": null,
            "grid_auto_columns": null,
            "margin": null,
            "display": null,
            "left": null
          }
        },
        "a7cb43c6e3c247288020bd6633f0422e": {
          "model_module": "@jupyter-widgets/controls",
          "model_name": "FloatProgressModel",
          "state": {
            "_view_name": "ProgressView",
            "style": "IPY_MODEL_da30450d6aca4dc39fc987c2cab28a27",
            "_dom_classes": [],
            "description": "100%",
            "_model_name": "FloatProgressModel",
            "bar_style": "success",
            "max": 300,
            "_view_module": "@jupyter-widgets/controls",
            "_model_module_version": "1.5.0",
            "value": 300,
            "_view_count": null,
            "_view_module_version": "1.5.0",
            "orientation": "horizontal",
            "min": 0,
            "description_tooltip": null,
            "_model_module": "@jupyter-widgets/controls",
            "layout": "IPY_MODEL_2516dc082d3845868b12033a2061029d"
          }
        },
        "cef1ee8686a144e5b0c524333deafef5": {
          "model_module": "@jupyter-widgets/controls",
          "model_name": "HTMLModel",
          "state": {
            "_view_name": "HTMLView",
            "style": "IPY_MODEL_025ca97daa6d4dd7a8011a0b0d40e36f",
            "_dom_classes": [],
            "description": "",
            "_model_name": "HTMLModel",
            "placeholder": "​",
            "_view_module": "@jupyter-widgets/controls",
            "_model_module_version": "1.5.0",
            "value": " 300/300 [23:17&lt;00:00,  4.66s/it]",
            "_view_count": null,
            "_view_module_version": "1.5.0",
            "description_tooltip": null,
            "_model_module": "@jupyter-widgets/controls",
            "layout": "IPY_MODEL_4361e92289f84fa4bf997313ef7f2c1c"
          }
        },
        "da30450d6aca4dc39fc987c2cab28a27": {
          "model_module": "@jupyter-widgets/controls",
          "model_name": "ProgressStyleModel",
          "state": {
            "_view_name": "StyleView",
            "_model_name": "ProgressStyleModel",
            "description_width": "initial",
            "_view_module": "@jupyter-widgets/base",
            "_model_module_version": "1.5.0",
            "_view_count": null,
            "_view_module_version": "1.2.0",
            "bar_color": null,
            "_model_module": "@jupyter-widgets/controls"
          }
        },
        "2516dc082d3845868b12033a2061029d": {
          "model_module": "@jupyter-widgets/base",
          "model_name": "LayoutModel",
          "state": {
            "_view_name": "LayoutView",
            "grid_template_rows": null,
            "right": null,
            "justify_content": null,
            "_view_module": "@jupyter-widgets/base",
            "overflow": null,
            "_model_module_version": "1.2.0",
            "_view_count": null,
            "flex_flow": null,
            "width": null,
            "min_width": null,
            "border": null,
            "align_items": null,
            "bottom": null,
            "_model_module": "@jupyter-widgets/base",
            "top": null,
            "grid_column": null,
            "overflow_y": null,
            "overflow_x": null,
            "grid_auto_flow": null,
            "grid_area": null,
            "grid_template_columns": null,
            "flex": null,
            "_model_name": "LayoutModel",
            "justify_items": null,
            "grid_row": null,
            "max_height": null,
            "align_content": null,
            "visibility": null,
            "align_self": null,
            "height": null,
            "min_height": null,
            "padding": null,
            "grid_auto_rows": null,
            "grid_gap": null,
            "max_width": null,
            "order": null,
            "_view_module_version": "1.2.0",
            "grid_template_areas": null,
            "object_position": null,
            "object_fit": null,
            "grid_auto_columns": null,
            "margin": null,
            "display": null,
            "left": null
          }
        },
        "025ca97daa6d4dd7a8011a0b0d40e36f": {
          "model_module": "@jupyter-widgets/controls",
          "model_name": "DescriptionStyleModel",
          "state": {
            "_view_name": "StyleView",
            "_model_name": "DescriptionStyleModel",
            "description_width": "",
            "_view_module": "@jupyter-widgets/base",
            "_model_module_version": "1.5.0",
            "_view_count": null,
            "_view_module_version": "1.2.0",
            "_model_module": "@jupyter-widgets/controls"
          }
        },
        "4361e92289f84fa4bf997313ef7f2c1c": {
          "model_module": "@jupyter-widgets/base",
          "model_name": "LayoutModel",
          "state": {
            "_view_name": "LayoutView",
            "grid_template_rows": null,
            "right": null,
            "justify_content": null,
            "_view_module": "@jupyter-widgets/base",
            "overflow": null,
            "_model_module_version": "1.2.0",
            "_view_count": null,
            "flex_flow": null,
            "width": null,
            "min_width": null,
            "border": null,
            "align_items": null,
            "bottom": null,
            "_model_module": "@jupyter-widgets/base",
            "top": null,
            "grid_column": null,
            "overflow_y": null,
            "overflow_x": null,
            "grid_auto_flow": null,
            "grid_area": null,
            "grid_template_columns": null,
            "flex": null,
            "_model_name": "LayoutModel",
            "justify_items": null,
            "grid_row": null,
            "max_height": null,
            "align_content": null,
            "visibility": null,
            "align_self": null,
            "height": null,
            "min_height": null,
            "padding": null,
            "grid_auto_rows": null,
            "grid_gap": null,
            "max_width": null,
            "order": null,
            "_view_module_version": "1.2.0",
            "grid_template_areas": null,
            "object_position": null,
            "object_fit": null,
            "grid_auto_columns": null,
            "margin": null,
            "display": null,
            "left": null
          }
        },
        "63a98afd22c34f61b2fd9fc458979f20": {
          "model_module": "@jupyter-widgets/controls",
          "model_name": "HBoxModel",
          "state": {
            "_view_name": "HBoxView",
            "_dom_classes": [],
            "_model_name": "HBoxModel",
            "_view_module": "@jupyter-widgets/controls",
            "_model_module_version": "1.5.0",
            "_view_count": null,
            "_view_module_version": "1.5.0",
            "box_style": "",
            "layout": "IPY_MODEL_726922dfd3754357a3067ba11437d43d",
            "_model_module": "@jupyter-widgets/controls",
            "children": [
              "IPY_MODEL_758586669aa64ba7a7b000c04b38d55e",
              "IPY_MODEL_a7bd08e7479744e49ccc74231eeb02ef"
            ]
          }
        },
        "726922dfd3754357a3067ba11437d43d": {
          "model_module": "@jupyter-widgets/base",
          "model_name": "LayoutModel",
          "state": {
            "_view_name": "LayoutView",
            "grid_template_rows": null,
            "right": null,
            "justify_content": null,
            "_view_module": "@jupyter-widgets/base",
            "overflow": null,
            "_model_module_version": "1.2.0",
            "_view_count": null,
            "flex_flow": null,
            "width": null,
            "min_width": null,
            "border": null,
            "align_items": null,
            "bottom": null,
            "_model_module": "@jupyter-widgets/base",
            "top": null,
            "grid_column": null,
            "overflow_y": null,
            "overflow_x": null,
            "grid_auto_flow": null,
            "grid_area": null,
            "grid_template_columns": null,
            "flex": null,
            "_model_name": "LayoutModel",
            "justify_items": null,
            "grid_row": null,
            "max_height": null,
            "align_content": null,
            "visibility": null,
            "align_self": null,
            "height": null,
            "min_height": null,
            "padding": null,
            "grid_auto_rows": null,
            "grid_gap": null,
            "max_width": null,
            "order": null,
            "_view_module_version": "1.2.0",
            "grid_template_areas": null,
            "object_position": null,
            "object_fit": null,
            "grid_auto_columns": null,
            "margin": null,
            "display": null,
            "left": null
          }
        },
        "758586669aa64ba7a7b000c04b38d55e": {
          "model_module": "@jupyter-widgets/controls",
          "model_name": "FloatProgressModel",
          "state": {
            "_view_name": "ProgressView",
            "style": "IPY_MODEL_9c6e1558bfb44e18a3973f873c09006f",
            "_dom_classes": [],
            "description": "100%",
            "_model_name": "FloatProgressModel",
            "bar_style": "success",
            "max": 300,
            "_view_module": "@jupyter-widgets/controls",
            "_model_module_version": "1.5.0",
            "value": 300,
            "_view_count": null,
            "_view_module_version": "1.5.0",
            "orientation": "horizontal",
            "min": 0,
            "description_tooltip": null,
            "_model_module": "@jupyter-widgets/controls",
            "layout": "IPY_MODEL_254fbbb5bd84423c92c21abe3caa0bcc"
          }
        },
        "a7bd08e7479744e49ccc74231eeb02ef": {
          "model_module": "@jupyter-widgets/controls",
          "model_name": "HTMLModel",
          "state": {
            "_view_name": "HTMLView",
            "style": "IPY_MODEL_bb6f62b177644939a9e783b8dd2e0fad",
            "_dom_classes": [],
            "description": "",
            "_model_name": "HTMLModel",
            "placeholder": "​",
            "_view_module": "@jupyter-widgets/controls",
            "_model_module_version": "1.5.0",
            "value": " 300/300 [12:13&lt;00:00,  2.45s/it]",
            "_view_count": null,
            "_view_module_version": "1.5.0",
            "description_tooltip": null,
            "_model_module": "@jupyter-widgets/controls",
            "layout": "IPY_MODEL_b46d47e528284a4888769b35586515e8"
          }
        },
        "9c6e1558bfb44e18a3973f873c09006f": {
          "model_module": "@jupyter-widgets/controls",
          "model_name": "ProgressStyleModel",
          "state": {
            "_view_name": "StyleView",
            "_model_name": "ProgressStyleModel",
            "description_width": "initial",
            "_view_module": "@jupyter-widgets/base",
            "_model_module_version": "1.5.0",
            "_view_count": null,
            "_view_module_version": "1.2.0",
            "bar_color": null,
            "_model_module": "@jupyter-widgets/controls"
          }
        },
        "254fbbb5bd84423c92c21abe3caa0bcc": {
          "model_module": "@jupyter-widgets/base",
          "model_name": "LayoutModel",
          "state": {
            "_view_name": "LayoutView",
            "grid_template_rows": null,
            "right": null,
            "justify_content": null,
            "_view_module": "@jupyter-widgets/base",
            "overflow": null,
            "_model_module_version": "1.2.0",
            "_view_count": null,
            "flex_flow": null,
            "width": null,
            "min_width": null,
            "border": null,
            "align_items": null,
            "bottom": null,
            "_model_module": "@jupyter-widgets/base",
            "top": null,
            "grid_column": null,
            "overflow_y": null,
            "overflow_x": null,
            "grid_auto_flow": null,
            "grid_area": null,
            "grid_template_columns": null,
            "flex": null,
            "_model_name": "LayoutModel",
            "justify_items": null,
            "grid_row": null,
            "max_height": null,
            "align_content": null,
            "visibility": null,
            "align_self": null,
            "height": null,
            "min_height": null,
            "padding": null,
            "grid_auto_rows": null,
            "grid_gap": null,
            "max_width": null,
            "order": null,
            "_view_module_version": "1.2.0",
            "grid_template_areas": null,
            "object_position": null,
            "object_fit": null,
            "grid_auto_columns": null,
            "margin": null,
            "display": null,
            "left": null
          }
        },
        "bb6f62b177644939a9e783b8dd2e0fad": {
          "model_module": "@jupyter-widgets/controls",
          "model_name": "DescriptionStyleModel",
          "state": {
            "_view_name": "StyleView",
            "_model_name": "DescriptionStyleModel",
            "description_width": "",
            "_view_module": "@jupyter-widgets/base",
            "_model_module_version": "1.5.0",
            "_view_count": null,
            "_view_module_version": "1.2.0",
            "_model_module": "@jupyter-widgets/controls"
          }
        },
        "b46d47e528284a4888769b35586515e8": {
          "model_module": "@jupyter-widgets/base",
          "model_name": "LayoutModel",
          "state": {
            "_view_name": "LayoutView",
            "grid_template_rows": null,
            "right": null,
            "justify_content": null,
            "_view_module": "@jupyter-widgets/base",
            "overflow": null,
            "_model_module_version": "1.2.0",
            "_view_count": null,
            "flex_flow": null,
            "width": null,
            "min_width": null,
            "border": null,
            "align_items": null,
            "bottom": null,
            "_model_module": "@jupyter-widgets/base",
            "top": null,
            "grid_column": null,
            "overflow_y": null,
            "overflow_x": null,
            "grid_auto_flow": null,
            "grid_area": null,
            "grid_template_columns": null,
            "flex": null,
            "_model_name": "LayoutModel",
            "justify_items": null,
            "grid_row": null,
            "max_height": null,
            "align_content": null,
            "visibility": null,
            "align_self": null,
            "height": null,
            "min_height": null,
            "padding": null,
            "grid_auto_rows": null,
            "grid_gap": null,
            "max_width": null,
            "order": null,
            "_view_module_version": "1.2.0",
            "grid_template_areas": null,
            "object_position": null,
            "object_fit": null,
            "grid_auto_columns": null,
            "margin": null,
            "display": null,
            "left": null
          }
        }
      }
    }
  },
  "cells": [
    {
      "cell_type": "code",
      "metadata": {
        "id": "Wm1f0yxNTOlx"
      },
      "source": [
        "# ML_in_Finance_Market_Impact\n",
        "#Author: Thejeswar Reddy Narravala , Sanjeev Kumar and Han Chiang\n",
        "# Email: tnarravala@hawk.iit.edu\n",
        "# Notes: tested on Mac OS X with Python 3.6.9 with the following packages:\n",
        "# numpy=1.18.1, matplotlib=3.1.3, tqdm=4.46\n",
        "# Citation: Please cite the following reference if this notebook is used for research purposes:\n",
        "# Bilokon P., Dixon M.F. and I. Halperin, Machine Learning in Finance: From Theory to Practice, Springer Graduate textbook Series, 2020. "
      ],
      "execution_count": null,
      "outputs": []
    },
    {
      "cell_type": "markdown",
      "metadata": {
        "id": "tvqV8HCATOly"
      },
      "source": [
        "# The Market Making Problem"
      ]
    },
    {
      "cell_type": "markdown",
      "metadata": {
        "id": "2D4lCviQTOly"
      },
      "source": [
        "We can build on the previous two examples by considering the problem of high frequency market making. Unlike the previous example, we shall learn a time independent optimal policy.\n",
        "\n",
        "Assume that a market maker seeks to capture the bid-ask spread by placing one lot best bid and ask limit orders. They are required to strictly keep their inventory between -1 and 1. The problem is when to optimally quote either a bid or ask, or simply wait, each time there is a limit order book update. For example, sometimes it may be more advantageous to quote a bid to close out a short position if it will almost surely give an instantaneous net reward, other times it may be better to wait and capture a larger spread.\n",
        "\n",
        "In this toy example, the agent uses the liquidity imbalance in the top of the order book as a proxy for price movement and, hence, fill probabilities. The example does not use market orders, knowledge of queue positions, cancellations and limit order placement at different levels of the ladder. These are left to later material and exercises.\n",
        "\n",
        "At each non-uniform time update, $t$, the market feed provides best prices and depths $\\{p^a_t, q^a_t, p^b_t, q^b_t\\}$. The state space is the product of the inventory, $X_t\\in\\{-1,0,1\\}$, and gridded liquidity ratio $\\hat{R}_t= \\lfloor{\\frac{q^a_t}{q^a_t+q^b_t}N\\rfloor}\\in [0,1]$, where $N$ is the number of grid points and $q^a_t$ and $q^b_t$ are the depths of the best ask and bid. $\\hat{R}_t \\rightarrow 0$ is the regime where the mid-price will go up and an ask is filled. Vice versa for $\\hat{R}_t \\rightarrow 1$. The dimension of the state space is chosen to be $ 3 \\cdot 10 = 30$.\n",
        "\n",
        "A bid is filled with probability $\\epsilon_t:=\\hat{R}_t$ and an ask is filled with probability $1-\\epsilon_t$. The rewards are chosen to be the expected total P\\&L. If a bid is filled to close out a short holding, then the expected reward $r_t=-\\epsilon_t (\\Delta p_t+c)$, where $\\Delta p_t$ is the difference between the exit and entry price and $c$ is the transaction cost. For example, if the agent entered a short position at time $s<t$ with a filled ask at $p^a_s=100$ and closed out the position with a filled bid at $p^b_t=99$, then $\\Delta p_t=1$. The agent is penalized for quoting an ask or bid when the position is already short or long respectively.\n",
        "\n",
        "We can now apply SARSA or Q-learning to learn optimal market making in such a simplified setting. For exploration needed for on-line learning, one can use a\n",
        "$\\varepsilon $-greedy policy."
      ]
    },
    {
      "cell_type": "markdown",
      "metadata": {
        "id": "OluI8-J5TOly"
      },
      "source": [
        "### Import the necessary libraries"
      ]
    },
    {
      "cell_type": "code",
      "metadata": {
        "id": "wr24ZWwPTOly"
      },
      "source": [
        "import time\n",
        "import copy\n",
        "import random\n",
        "import sys\n",
        "\n",
        "import numpy as np\n",
        "\n",
        "import matplotlib.pyplot as plt\n",
        "from matplotlib.gridspec import GridSpec\n",
        "\n",
        "from tqdm.notebook import tqdm "
      ],
      "execution_count": null,
      "outputs": []
    },
    {
      "cell_type": "code",
      "metadata": {
        "colab": {
          "base_uri": "https://localhost:8080/"
        },
        "id": "KtjWH8FzTaa6",
        "outputId": "9137f81e-4d26-42ab-bda7-3675ed1d9883"
      },
      "source": [
        "from google.colab import drive\n",
        "drive.mount('/content/drive/')"
      ],
      "execution_count": null,
      "outputs": [
        {
          "output_type": "stream",
          "text": [
            "Drive already mounted at /content/drive/; to attempt to forcibly remount, call drive.mount(\"/content/drive/\", force_remount=True).\n"
          ],
          "name": "stdout"
        }
      ]
    },
    {
      "cell_type": "code",
      "metadata": {
        "id": "ahhgEkMpTmIZ"
      },
      "source": [
        "import os\n",
        "os.chdir(\"/content/drive/My Drive\")"
      ],
      "execution_count": null,
      "outputs": []
    },
    {
      "cell_type": "code",
      "metadata": {
        "id": "jBICFBcWTOly"
      },
      "source": [
        "%matplotlib inline"
      ],
      "execution_count": null,
      "outputs": []
    },
    {
      "cell_type": "markdown",
      "metadata": {
        "id": "Bj1z3cJ4TOlz"
      },
      "source": [
        "### Setting up  \n",
        "#### Setting some global parameters  "
      ]
    },
    {
      "cell_type": "markdown",
      "metadata": {
        "id": "hM2a__WUTOlz"
      },
      "source": [
        "Parameters of the reinforcement learning algorithms"
      ]
    },
    {
      "cell_type": "code",
      "metadata": {
        "id": "iuL1tiLRTOlz"
      },
      "source": [
        "EPSILON = 0.5 # Probability for exploration\n",
        "\n",
        "ALPHA = 0.005 # Step size\n",
        "\n",
        "GAMMA = 1 # Discount factor for Q-Learning and Sarsa"
      ],
      "execution_count": null,
      "outputs": []
    },
    {
      "cell_type": "markdown",
      "metadata": {
        "id": "MQuFp5dWTOlz"
      },
      "source": [
        "Some parameters describing the problem and our implementation of it"
      ]
    },
    {
      "cell_type": "code",
      "metadata": {
        "id": "vmjhBIgyTOlz"
      },
      "source": [
        "ACTIONS = [0, 1, 2,3,4] # Possible actions #modified\n",
        "\n",
        "NUM_INV_STEPS = 3 # Number of inventory states: long, short, flat\n",
        "\n",
        "NUM_PROB_STEPS = 10 # Number of discrete probabilities\n",
        "\n",
        "# Dimensions of the action-state value array:\n",
        "Q_DIMS = (NUM_INV_STEPS, NUM_PROB_STEPS, len(ACTIONS))\n",
        "\n",
        "FILL_PROBS = np.linspace(0, 1, 10) # Possible probability values\n",
        "\n",
        "c = 0.05 # Transaction cost\n",
        "\n",
        "MAX_ITER = np.float('inf') # Maximum number of iterations in one episode\n",
        "# (with `MAX_ITER = np.float('inf')`, the entire dataset will be used)"
      ],
      "execution_count": null,
      "outputs": []
    },
    {
      "cell_type": "markdown",
      "metadata": {
        "id": "Oe0qlRkeTOlz"
      },
      "source": [
        "Note the discrete probability values in `FILL_PROBS`. These represent the probability of a bid being fulfilled, and the complement of the probability of an ask being fulfilled."
      ]
    },
    {
      "cell_type": "code",
      "metadata": {
        "colab": {
          "base_uri": "https://localhost:8080/"
        },
        "id": "vonNXgJCTOlz",
        "outputId": "66074e30-56a3-416d-b255-f0f50b3780c6"
      },
      "source": [
        "FILL_PROBS"
      ],
      "execution_count": null,
      "outputs": [
        {
          "output_type": "execute_result",
          "data": {
            "text/plain": [
              "array([0.        , 0.11111111, 0.22222222, 0.33333333, 0.44444444,\n",
              "       0.55555556, 0.66666667, 0.77777778, 0.88888889, 1.        ])"
            ]
          },
          "metadata": {
            "tags": []
          },
          "execution_count": 8
        }
      ]
    },
    {
      "cell_type": "markdown",
      "metadata": {
        "id": "XSs0q1B6TOl0"
      },
      "source": [
        "These dictionaries map the names of the actions and positions to their index along the corresponding axis of the state-action value array `q_value` in the learning algorithms"
      ]
    },
    {
      "cell_type": "code",
      "metadata": {
        "id": "iVhLzNxlTOl0"
      },
      "source": [
        "actions = {'buy': 2, 'sell': 0, 'hold': 1,'mb':3,'ms':4 } \n",
        "positions = {'flat': 0, 'long': 2, 'short': 1}"
      ],
      "execution_count": null,
      "outputs": []
    },
    {
      "cell_type": "markdown",
      "metadata": {
        "id": "gBYncLfvTOl0"
      },
      "source": [
        "#### The data generator\n",
        "\n",
        "The training data are in a .csv file. The data generator object yields the next Limit Order Book update from the file. When it reaches the end of the file, it raises `StopIteration`, and its `rewind()` method must be called to reset it."
      ]
    },
    {
      "cell_type": "code",
      "metadata": {
        "id": "wNldbeVMTOl0",
        "scrolled": true
      },
      "source": [
        "class DataFeed(object):\n",
        "    def __init__(self, data_RA):\n",
        "        self.data_RA = data_RA\n",
        "        self.rewind()\n",
        "    def next(self):\n",
        "        try:\n",
        "            return self.__gen.__next__()\n",
        "        except StopIteration as e:\n",
        "            raise e\n",
        "    def rewind(self):\n",
        "        self.__gen = (row for row in self.data_RA)"
      ],
      "execution_count": null,
      "outputs": []
    },
    {
      "cell_type": "code",
      "metadata": {
        "id": "L-h2nDElTOl0"
      },
      "source": [
        "csv_path = 'GOOG-L1.csv'\n",
        "data_RA = np.genfromtxt(csv_path, delimiter=',', dtype=float)\n",
        "data_generator = DataFeed(data_RA)"
      ],
      "execution_count": null,
      "outputs": []
    },
    {
      "cell_type": "markdown",
      "metadata": {
        "id": "EfJMuZIcTOl0"
      },
      "source": [
        "#### State\n",
        "The state has four elements: \n",
        "- position (flat, long, short); \n",
        "- probability of ask fill (index in the array of probabilities)\n",
        "- prices (a dictionary of bid and ask)\n",
        "- entry price\n",
        "\n",
        "We note, however, that the q-value is only a function of the position and probability, and the action taken."
      ]
    },
    {
      "cell_type": "markdown",
      "metadata": {
        "id": "EOCLkL5vTOl0"
      },
      "source": [
        "Here, we define a function to \"rewind\" the data generator to the beginning of the dataset and initialise the state vector"
      ]
    },
    {
      "cell_type": "code",
      "metadata": {
        "id": "w80O4bmoTOl0"
      },
      "source": [
        "def get_initial_state(data_generator):\n",
        "    data_generator.rewind()\n",
        "    \n",
        "    # By convention we start with a flat position\n",
        "    # and, therefore, no entry price\n",
        "    position = positions['flat']\n",
        "    entry_price = None\n",
        "    \n",
        "    ask, ask_depth, bid, bid_depth = data_generator.next()\n",
        "    \n",
        "    price = {'bid': bid/1000.0, 'ask': ask/1000.0}    \n",
        "    #print('bd',bid_depth)\n",
        "    #print('as',ask_depth)\n",
        "    # Estimate the fill probability\n",
        "    q = bid_depth / (bid_depth + ask_depth)\n",
        "    # Quantise q and scale it to the integer index \n",
        "    # q_ind is an index of the vector `FILL_PROBS`\n",
        "    q_ind = np.int(q * NUM_PROB_STEPS) \n",
        "    \n",
        "    initial_state = position, q_ind, price, entry_price\n",
        "    \n",
        "    return initial_state"
      ],
      "execution_count": null,
      "outputs": []
    },
    {
      "cell_type": "code",
      "metadata": {
        "colab": {
          "base_uri": "https://localhost:8080/"
        },
        "id": "NLvWO_O7TOl0",
        "outputId": "c65d6629-19ef-4b4d-f209-bc65d3d8ee52"
      },
      "source": [
        "START = get_initial_state(data_generator)\n",
        "print(START)"
      ],
      "execution_count": null,
      "outputs": [
        {
          "output_type": "stream",
          "text": [
            "(0, 8, {'bid': 5794.0, 'ask': 5802.3}, None)\n"
          ],
          "name": "stdout"
        }
      ]
    },
    {
      "cell_type": "markdown",
      "metadata": {
        "id": "y7YY4krkTOl0"
      },
      "source": [
        "#### Setting up the environment"
      ]
    },
    {
      "cell_type": "markdown",
      "metadata": {
        "id": "864tS9jATOl0"
      },
      "source": [
        "The step function that describes how the next state is obtained from the current state and the action taken. \n",
        "\n",
        "The function returns the next state and the immediate reward obtained from the action taken. "
      ]
    },
    {
      "cell_type": "code",
      "metadata": {
        "id": "B31DbdCfTOl0"
      },
      "source": [
        "def step(state, action):\n",
        "        position, q, price, entry_price = state\n",
        "        reward = 0 \n",
        "        instant_pnl = 0\n",
        "        done = False\n",
        "        \n",
        "        # The ask/bid fill probabilities always sum to 1, meaning\n",
        "        # that either bid or ask orders can always be executed \n",
        "        \n",
        "        if FILL_PROBS[q] < np.random.rand():\n",
        "          fill_bid = True\n",
        "          fill_ask = False\n",
        "        elif (1-FILL_PROBS[q]) < np.random.rand():\n",
        "          fill_bid = False\n",
        "          fill_ask = True\n",
        "        else:\n",
        "          fill_bid = False\n",
        "          fill_ask = False\n",
        "        # Calculate the result of taking the selected action\n",
        "        if (action == actions['buy']) and (fill_bid):\n",
        "            reward = -c\n",
        "            if (position == positions['flat']):         \n",
        "                position = positions['long']\n",
        "                entry_price = price['bid'] \n",
        "            elif(position == positions['short']): # closing out a short position          \n",
        "                position = positions['flat']\n",
        "                exit_price =  price['bid']\n",
        "                instant_pnl = entry_price - exit_price\n",
        "                entry_price = None\n",
        "            elif position == positions['long']:\n",
        "                raise ValueError(\"can't buy already got\")\n",
        "        \n",
        "        elif (action == actions['sell']) and (fill_ask):\n",
        "            reward = -c\n",
        "            if (position == positions['flat']):\n",
        "                position = positions['short']\n",
        "                entry_price = price['ask']\n",
        "            elif (position == positions['long']): # closing out a long position   \n",
        "                exit_price = price['ask']\n",
        "                position = positions['flat']\n",
        "                instant_pnl = exit_price - entry_price\n",
        "                entry_price = None\n",
        "            elif position == positions['short']:\n",
        "                raise ValueError(\"can't sell already short\")\n",
        "\n",
        "        elif action == actions['mb']:\n",
        "          reward =-c\n",
        "          if (position == positions['flat']):\n",
        "            raise ValueError(\"already exited\")\n",
        "          elif (position == positions['long']):\n",
        "            raise ValueError(\"can't buy already got\")\n",
        "          elif (position == positions['short']):\n",
        "            position =positions['flat']\n",
        "            exit_price =  price['ask']\n",
        "            instant_pnl = entry_price - exit_price\n",
        "            entry_price = None\n",
        "\n",
        "        elif action == actions['ms']:\n",
        "          reward =-c\n",
        "          if (position == positions['flat']):\n",
        "            raise ValueError(\"already exited\")\n",
        "          elif (position == positions['long']):\n",
        "            exit_price = price['bid']\n",
        "            position = positions['flat']\n",
        "            instant_pnl = exit_price - entry_price\n",
        "            entry_price = None\n",
        "          elif (position == positions['short']):\n",
        "            raise ValueError(\"can't sell already short\")\n",
        "\n",
        "\n",
        "\n",
        "\n",
        "\n",
        "        \n",
        "        reward += instant_pnl\n",
        "        \n",
        "        try:            \n",
        "            # Get the next limit order book update\n",
        "            ask, ask_depth, bid, bid_depth = data_generator.next()\n",
        "            \n",
        "            # Calculate the price and bid/ask fill probabilities for the next state\n",
        "            price = {'bid': bid/1000.0, 'ask': ask/1000.0}    \n",
        "\n",
        "            # Estimate the fill probability\n",
        "            q = bid_depth / (bid_depth + ask_depth)\n",
        "            \n",
        "            # Quantise q and scale it to the integer index \n",
        "            # q_ind is an index of the vector `FILL_PROBS`\n",
        "            q_ind = np.int(q * NUM_PROB_STEPS) \n",
        "            \n",
        "        except StopIteration as e:\n",
        "            # This happens when the data generator reaches the end of the dataset\n",
        "            raise e\n",
        "        \n",
        "        next_state = position, q_ind, price, entry_price\n",
        "        return next_state, reward"
      ],
      "execution_count": null,
      "outputs": []
    },
    {
      "cell_type": "markdown",
      "metadata": {
        "id": "TyNCkn_3TOl1"
      },
      "source": [
        "### Set up the agent's action policy\n",
        "Given $S_t$ and $Q_t\\left( s_t, a_t\\right)$, this function chooses an action based on the epsilon-greedy algorithm"
      ]
    },
    {
      "cell_type": "code",
      "metadata": {
        "id": "J39i0dQPTOl1"
      },
      "source": [
        "def choose_action(state, q_value, eps=EPSILON):\n",
        "    position, q, price, entry_price = state\n",
        "    \n",
        "    # With probability eps we choose randomly among allowed actions\n",
        "    if np.random.binomial(1, eps) == 1: \n",
        "        if position == positions['long']:\n",
        "            action = np.random.choice([actions['hold'], actions['sell'],actions['ms']])\n",
        "        elif position == positions['short']:\n",
        "            action = np.random.choice([actions['hold'], actions['buy'],actions['mb']])\n",
        "        else:\n",
        "            action = np.random.choice([actions['hold'], actions['buy'], actions['sell']])  \n",
        "        \n",
        "    # Otherwise the best available action is selected\n",
        "    else:\n",
        "        # Make a list of the actions available from the current state\n",
        "        if position == positions['long']:\n",
        "            actions_ = [actions['hold'], actions['sell'],actions['ms']]        \n",
        "        elif position == positions['short']:\n",
        "            actions_ = [actions['hold'], actions['buy'],actions['mb']]\n",
        "        else:\n",
        "            actions_ = [actions['hold'], actions['buy'], actions['sell']]\n",
        "        # Get the state-action values for the current state\n",
        "        values_ = q_value[state[0], state[1], actions_]\n",
        "        # In case of a tie, choose from those with the highest value\n",
        "        action = np.random.choice([actions_[action_] for action_, value_ in enumerate(values_) \n",
        "                                 if value_ == np.max(values_)])\n",
        "    return action"
      ],
      "execution_count": null,
      "outputs": []
    },
    {
      "cell_type": "markdown",
      "metadata": {
        "id": "rIM9poZ8TOl1"
      },
      "source": [
        "To demonstrate the "
      ]
    },
    {
      "cell_type": "code",
      "metadata": {
        "colab": {
          "base_uri": "https://localhost:8080/"
        },
        "id": "ZQhyPe3sTOl1",
        "outputId": "1c394051-1da2-47f7-d8c1-44260d5e9d9c"
      },
      "source": [
        "# Set a random state-action value function\n",
        "q_value_example = np.random.random(Q_DIMS) \n",
        "\n",
        "# Show the initial state\n",
        "state = get_initial_state(data_generator)\n",
        "print(state)\n",
        "\n",
        "# The action values for the initial state. \n",
        "# state[0] is the position; state[1] is the bid fill probability\n",
        "print(q_value_example[state[0], state[1], :])\n",
        "\n",
        "# With epsilon = 0, the selected action is always that with the highest Q-value\n",
        "print(choose_action(state, q_value_example, eps=0))"
      ],
      "execution_count": null,
      "outputs": [
        {
          "output_type": "stream",
          "text": [
            "(0, 8, {'bid': 5794.0, 'ask': 5802.3}, None)\n",
            "[0.88697819 0.41767524 0.42317432 0.18016463 0.39698001]\n",
            "0\n"
          ],
          "name": "stdout"
        }
      ]
    },
    {
      "cell_type": "markdown",
      "metadata": {
        "id": "gAYxhcLpTOl1"
      },
      "source": [
        "### Set up the learning algorithms"
      ]
    },
    {
      "cell_type": "markdown",
      "metadata": {
        "id": "H6H68BvlTOl1"
      },
      "source": [
        "#### Sarsa and Expected Sarsa"
      ]
    },
    {
      "cell_type": "markdown",
      "metadata": {
        "id": "ZKBCFjdYTOl1"
      },
      "source": [
        "The function below runs through a learning episode with Sarsa. It takes the state-action value array `q_value` as an argument, initialises the state to `START`, defined above, and updates `q_value` according to the Sarsa algorithm, until reaching either the end of the training data or the maximum number of iterations. The cumulative reward earned is returned."
      ]
    },
    {
      "cell_type": "code",
      "metadata": {
        "id": "nSwIy0RyTOl1"
      },
      "source": [
        "def sarsa(q_value, expected=False, step_size=ALPHA, eps=EPSILON):\n",
        "    \n",
        "    state = get_initial_state(data_generator)\n",
        "    \n",
        "    action = choose_action(state, q_value, eps)\n",
        "    rewards = 0.0\n",
        "    done = False\n",
        "    iteration = 0\n",
        "    \n",
        "    while (iteration < MAX_ITER) and not done:\n",
        "        # The step function will raise StopIteration when there\n",
        "        # is no more data available to calculate the next state:\n",
        "        try:\n",
        "            next_state, reward = step(state, action)\n",
        "        except StopIteration:\n",
        "            # Skip the rest of the loop and end the episode.\n",
        "            # As there is no new `next_state`, updating\n",
        "            # q_value again doesn't make sense\n",
        "            done = True\n",
        "            continue\n",
        "        next_action = choose_action(next_state, q_value, eps)\n",
        "        \n",
        "        rewards += reward\n",
        "        \n",
        "        if not expected:\n",
        "            target = q_value[next_state[0], next_state[1], next_action]\n",
        "        else:\n",
        "            # Calculate the expected value of new state for expected SARSA\n",
        "            target = 0.0\n",
        "            q_next = q_value[next_state[0], next_state[1], :]\n",
        "            best_actions = np.argwhere(q_next == np.max(q_next))\n",
        "            for action_ in ACTIONS: \n",
        "                if action_ in best_actions:\n",
        "                    target += ((1.0 -  eps) / len(best_actions) \n",
        "                               +  eps / len(ACTIONS)) * q_value[next_state[0], next_state[1], action_]\n",
        "                else:\n",
        "                    target +=  eps / len(ACTIONS) * q_value[next_state[0], next_state[1], action_]\n",
        "        target *= GAMMA\n",
        "        \n",
        "        # SARSA update\n",
        "        q_value[state[0], state[1], action] += step_size * (reward\n",
        "                 + target - q_value[state[0], state[1], action])\n",
        "        \n",
        "        state = next_state\n",
        "        action = next_action\n",
        "        iteration += 1\n",
        "    return rewards"
      ],
      "execution_count": null,
      "outputs": []
    },
    {
      "cell_type": "markdown",
      "metadata": {
        "id": "MFciN0z9TOl1"
      },
      "source": [
        "#### Q-learning"
      ]
    },
    {
      "cell_type": "markdown",
      "metadata": {
        "id": "FDO3kJmuTOl1"
      },
      "source": [
        "This function simulates an episode with Q-learning. It takes the state-action value array `q_value` as an argument, initialises the state to `START`, defined above, and updates `q_value` according to the Q-learning algorithm, until the $T$ time steps have passed, or the stocks have all been sold. The cumulative reward earned is returned."
      ]
    },
    {
      "cell_type": "code",
      "metadata": {
        "id": "vfa7hTHDTOl1"
      },
      "source": [
        "def q_learning(q_value, step_size=ALPHA, eps=EPSILON):\n",
        "    \n",
        "    state = get_initial_state(data_generator)\n",
        "    \n",
        "    rewards = 0.0\n",
        "    done  = False\n",
        "    iteration = 0\n",
        "    \n",
        "    while (iteration < MAX_ITER) and not done:\n",
        "        action = choose_action(state, q_value, eps)\n",
        "        # The step function will raise StopIteration when there\n",
        "        # is no more data available to calculate the next state:\n",
        "        try:\n",
        "            next_state, reward = step(state, action)\n",
        "        except StopIteration:\n",
        "            # Skip the rest of the loop and end the episode.\n",
        "            # As there is no new `next_state`, updating\n",
        "            # q_value again doesn't make sense\n",
        "            done = True\n",
        "            continue\n",
        "        \n",
        "        rewards += reward\n",
        "        \n",
        "        # Q-Learning update\n",
        "        q_value[state[0], state[1], action] += step_size * (\n",
        "                reward + GAMMA * np.max(q_value[next_state[0], next_state[1], :]) -\n",
        "                q_value[state[0], state[1], action])\n",
        "        state = next_state\n",
        "        iteration +=1\n",
        "    return rewards"
      ],
      "execution_count": null,
      "outputs": []
    },
    {
      "cell_type": "markdown",
      "metadata": {
        "id": "YXs6Ks_FTOl1"
      },
      "source": [
        "#### Printing the learned policies"
      ]
    },
    {
      "cell_type": "markdown",
      "metadata": {
        "id": "Awtkea2uTOl1"
      },
      "source": [
        "This function will allow us to inspect the optimal action learned for each of the possible states"
      ]
    },
    {
      "cell_type": "code",
      "metadata": {
        "id": "HHTusqh0TOl1"
      },
      "source": [
        "def print_optimal_policy(q_value):\n",
        "    \n",
        "    optimal_policy = np.argmax(q_value, axis=-1)\n",
        "    print(\"ask fill prob:\", *['%.2f' % q for q in  FILL_PROBS])\n",
        "    \n",
        "    for i in range(0, NUM_INV_STEPS):\n",
        "        \n",
        "        # positions ={'flat': 0, 'long': 2, 'short':1}\n",
        "        str_=\"\"\n",
        "        if (i==0):\n",
        "            str_ += '         flat     '\n",
        "        elif(i==1):\n",
        "            str_ += '        short     '\n",
        "        else:\n",
        "            str_ += '         long     '\n",
        "            \n",
        "        for j in range(0, NUM_PROB_STEPS): \n",
        "            a = np.int(optimal_policy[i,j])\n",
        "            # actions = {'buy':2, 'sell':0, 'hold': 1}\n",
        "            if a == 0:\n",
        "                str_ += 's    '\n",
        "            elif a ==1:\n",
        "                str_ += 'h    ' \n",
        "            elif a==2:\n",
        "                str_ += 'b    '  \n",
        "            elif a==3:\n",
        "                str_ += 'mb   '\n",
        "            else:\n",
        "                str_ += 'ms   '\n",
        "        print(str_)"
      ],
      "execution_count": null,
      "outputs": []
    },
    {
      "cell_type": "markdown",
      "metadata": {
        "id": "AD4idZy5TOl1"
      },
      "source": [
        "#### Set up the epsilon decay\n",
        "\n",
        "We decrease the value of epsilon with each epoch - epsilon must approach zero as the number of episodes increases in order to ensure that the q-value function converges to the optimum\n",
        "\n",
        "The following figure demonstrates the exponential decay we are going to use."
      ]
    },
    {
      "cell_type": "code",
      "metadata": {
        "colab": {
          "base_uri": "https://localhost:8080/",
          "height": 279
        },
        "id": "6WsT8KmRTOl1",
        "outputId": "27222324-e592-4cf8-9347-1b81a8435ee0"
      },
      "source": [
        "%matplotlib inline\n",
        "\n",
        "eps = 0.5\n",
        "epis = 150\n",
        "epoch = 15\n",
        "\n",
        "plt.plot([eps*((1-eps)**(i//epoch)) for i in range(epis)])\n",
        "plt.xlabel('Episode')\n",
        "plt.ylabel('Epsilon');"
      ],
      "execution_count": null,
      "outputs": [
        {
          "output_type": "display_data",
          "data": {
            "image/png": "[encoded data removed]",
            "text/plain": [
              "<Figure size 432x288 with 1 Axes>"
            ]
          },
          "metadata": {
            "tags": [],
            "needs_background": "light"
          }
        }
      ]
    },
    {
      "cell_type": "markdown",
      "metadata": {
        "id": "x-zLuR0HTOl2"
      },
      "source": [
        "### Running Sarsa and Q-learning "
      ]
    },
    {
      "cell_type": "code",
      "metadata": {
        "id": "AsTFvxBOTOl2"
      },
      "source": [
        "def train(policy, episodes=300):\n",
        "    if policy == 'sarsa':\n",
        "        learning_alg = sarsa\n",
        "    elif policy == 'q-learning':\n",
        "        learning_alg = q_learning\n",
        "    else:\n",
        "        raise ValueError(\"choose 'sarsa' or 'q-learning'\")\n",
        "    \n",
        "    epoch_length = 15\n",
        "    \n",
        "    # Initialise the rewards vector and state-action values array\n",
        "    rewards = np.zeros(episodes)\n",
        "    q_value = np.zeros(Q_DIMS)\n",
        "    \n",
        "    print('Training {}...'.format(policy))\n",
        "    for i in tqdm(range(0, episodes)):\n",
        "        eps = EPSILON*((1-EPSILON)**(i//epoch_length))\n",
        "        rewards[i] = learning_alg(q_value, eps=eps)\n",
        "    \n",
        "    return q_value, rewards"
      ],
      "execution_count": null,
      "outputs": []
    },
    {
      "cell_type": "code",
      "metadata": {
        "colab": {
          "base_uri": "https://localhost:8080/",
          "height": 149,
          "referenced_widgets": [
            "ca6fee124e8e493b8b3190d955a986ca",
            "3eaf50de9d7d4768b38ee945c93a7059",
            "a7cb43c6e3c247288020bd6633f0422e",
            "cef1ee8686a144e5b0c524333deafef5",
            "da30450d6aca4dc39fc987c2cab28a27",
            "2516dc082d3845868b12033a2061029d",
            "025ca97daa6d4dd7a8011a0b0d40e36f",
            "4361e92289f84fa4bf997313ef7f2c1c",
            "63a98afd22c34f61b2fd9fc458979f20",
            "726922dfd3754357a3067ba11437d43d",
            "758586669aa64ba7a7b000c04b38d55e",
            "a7bd08e7479744e49ccc74231eeb02ef",
            "9c6e1558bfb44e18a3973f873c09006f",
            "254fbbb5bd84423c92c21abe3caa0bcc",
            "bb6f62b177644939a9e783b8dd2e0fad",
            "b46d47e528284a4888769b35586515e8"
          ]
        },
        "id": "b4YQMdP3TOl2",
        "scrolled": false,
        "outputId": "49bca71e-35ef-40bf-fd90-5ce9702fa5fd"
      },
      "source": [
        "q_sarsa, rewards_sarsa = train('sarsa')\n",
        "q_q_learning, rewards_q_learning = train('q-learning')"
      ],
      "execution_count": null,
      "outputs": [
        {
          "output_type": "stream",
          "text": [
            "Training sarsa...\n"
          ],
          "name": "stdout"
        },
        {
          "output_type": "display_data",
          "data": {
            "application/vnd.jupyter.widget-view+json": {
              "model_id": "ca6fee124e8e493b8b3190d955a986ca",
              "version_minor": 0,
              "version_major": 2
            },
            "text/plain": [
              "HBox(children=(FloatProgress(value=0.0, max=300.0), HTML(value='')))"
            ]
          },
          "metadata": {
            "tags": []
          }
        },
        {
          "output_type": "stream",
          "text": [
            "\n",
            "Training q-learning...\n"
          ],
          "name": "stdout"
        },
        {
          "output_type": "display_data",
          "data": {
            "application/vnd.jupyter.widget-view+json": {
              "model_id": "63a98afd22c34f61b2fd9fc458979f20",
              "version_minor": 0,
              "version_major": 2
            },
            "text/plain": [
              "HBox(children=(FloatProgress(value=0.0, max=300.0), HTML(value='')))"
            ]
          },
          "metadata": {
            "tags": []
          }
        },
        {
          "output_type": "stream",
          "text": [
            "\n"
          ],
          "name": "stdout"
        }
      ]
    },
    {
      "cell_type": "code",
      "metadata": {
        "colab": {
          "base_uri": "https://localhost:8080/"
        },
        "id": "vN29Hcw7TOl2",
        "outputId": "f7f080e4-2528-431e-dbe0-b5955dd8ce3b"
      },
      "source": [
        "print('SARSA')\n",
        "print_optimal_policy(q_sarsa)\n",
        "print('Q-learning')\n",
        "print_optimal_policy(q_q_learning)"
      ],
      "execution_count": null,
      "outputs": [
        {
          "output_type": "stream",
          "text": [
            "SARSA\n",
            "ask fill prob: 0.00 0.11 0.22 0.33 0.44 0.56 0.67 0.78 0.89 1.00\n",
            "         flat     b    b    b    b    b    b    b    h    b    s    \n",
            "        short     b    b    b    b    b    b    b    b    b    h    \n",
            "         long     s    s    h    s    s    s    s    s    s    s    \n",
            "Q-learning\n",
            "ask fill prob: 0.00 0.11 0.22 0.33 0.44 0.56 0.67 0.78 0.89 1.00\n",
            "         flat     b    h    s    s    h    s    s    s    s    s    \n",
            "        short     b    b    b    b    b    b    b    b    b    h    \n",
            "         long     s    s    s    s    h    s    s    s    s    s    \n"
          ],
          "name": "stdout"
        }
      ]
    },
    {
      "cell_type": "code",
      "metadata": {
        "colab": {
          "base_uri": "https://localhost:8080/"
        },
        "id": "YK2SivBh1Gmw",
        "outputId": "ad621012-5913-404a-feb8-537f90f86123"
      },
      "source": [
        "q_sarsa"
      ],
      "execution_count": null,
      "outputs": [
        {
          "output_type": "execute_result",
          "data": {
            "text/plain": [
              "array([[[ 97.27621405, 100.26636091, 767.76914523,   0.        ,\n",
              "           0.        ],\n",
              "        [ 72.00164643,  72.01303171, 766.70290583,   0.        ,\n",
              "           0.        ],\n",
              "        [ 73.81474469,  78.19740928, 766.87386986,   0.        ,\n",
              "           0.        ],\n",
              "        [112.0548517 , 111.79373404, 767.91182649,   0.        ,\n",
              "           0.        ],\n",
              "        [110.28232721, 123.34632064, 767.85769316,   0.        ,\n",
              "           0.        ],\n",
              "        [174.86463946, 165.82085909, 767.94363297,   0.        ,\n",
              "           0.        ],\n",
              "        [132.71504015, 134.44506079, 767.5581218 ,   0.        ,\n",
              "           0.        ],\n",
              "        [130.43910607, 766.62723153, 128.2732446 ,   0.        ,\n",
              "           0.        ],\n",
              "        [136.22553928, 129.88877338, 766.42174332,   0.        ,\n",
              "           0.        ],\n",
              "        [765.02547608, 128.19249189, 127.19184073,   0.        ,\n",
              "           0.        ]],\n",
              "\n",
              "       [[  0.        ,  38.78920753, 764.42796071,  34.24108292,\n",
              "           0.        ],\n",
              "        [  0.        ,  23.22046457, 757.92041267,  19.71977986,\n",
              "           0.        ],\n",
              "        [  0.        ,  28.96124388, 760.3840538 ,  33.24421515,\n",
              "           0.        ],\n",
              "        [  0.        ,  47.80841058, 764.91913394,  54.4807151 ,\n",
              "           0.        ],\n",
              "        [  0.        ,  82.6378433 , 766.38786565,  78.12296065,\n",
              "           0.        ],\n",
              "        [  0.        , 108.78343923, 766.9166294 , 112.85528699,\n",
              "           0.        ],\n",
              "        [  0.        ,  93.38888496, 766.22003537, 102.88446394,\n",
              "           0.        ],\n",
              "        [  0.        ,  83.01923479, 764.78254259,  83.83692173,\n",
              "           0.        ],\n",
              "        [  0.        , 119.63141201, 765.06596874, 120.16467585,\n",
              "           0.        ],\n",
              "        [  0.        , 764.93536496, 168.87588616, 180.44340485,\n",
              "           0.        ]],\n",
              "\n",
              "       [[768.24978595, 200.01142652,   0.        ,   0.        ,\n",
              "         194.72229818],\n",
              "        [768.13414735, 136.70653477,   0.        ,   0.        ,\n",
              "         136.88071266],\n",
              "        [141.43170525, 768.26970101,   0.        ,   0.        ,\n",
              "         143.01858056],\n",
              "        [768.56062866, 160.12431622,   0.        ,   0.        ,\n",
              "         162.65434898],\n",
              "        [768.71077305, 147.1352144 ,   0.        ,   0.        ,\n",
              "         146.79259804],\n",
              "        [768.70354687, 182.82693248,   0.        ,   0.        ,\n",
              "         184.88334675],\n",
              "        [768.76601808, 137.88945622,   0.        ,   0.        ,\n",
              "         124.11312861],\n",
              "        [768.20254212, 104.43479359,   0.        ,   0.        ,\n",
              "          96.45063172],\n",
              "        [768.22414333, 101.69229643,   0.        ,   0.        ,\n",
              "          97.59641413],\n",
              "        [768.45326883, 104.51747391,   0.        ,   0.        ,\n",
              "         101.57991864]]])"
            ]
          },
          "metadata": {
            "tags": []
          },
          "execution_count": 24
        }
      ]
    },
    {
      "cell_type": "code",
      "metadata": {
        "colab": {
          "base_uri": "https://localhost:8080/",
          "height": 497
        },
        "id": "Eyb6PiJ0TOl2",
        "outputId": "a5a12188-33f2-41d7-89ab-5babe9da8cac"
      },
      "source": [
        "%matplotlib inline\n",
        "plt.figure(figsize=(13,8))\n",
        "plt.plot(rewards_q_learning, label='Q-Learning')\n",
        "plt.plot(rewards_sarsa, label='SARSA')\n",
        "plt.xlabel('Episodes')\n",
        "plt.ylabel('Sum of rewards during episode')\n",
        "plt.legend();"
      ],
      "execution_count": null,
      "outputs": [
        {
          "output_type": "display_data",
          "data": {
            "image/png": "[encoded data removed]",
            "text/plain": [
              "<Figure size 936x576 with 1 Axes>"
            ]
          },
          "metadata": {
            "tags": [],
            "needs_background": "light"
          }
        }
      ]
    },
    {
      "cell_type": "markdown",
      "metadata": {
        "id": "MIvYvuMyTOl2"
      },
      "source": [
        "### Animation of the resulting market making strategy"
      ]
    },
    {
      "cell_type": "markdown",
      "metadata": {
        "id": "PIVXSKm6TOl2"
      },
      "source": [
        "This code below will run through the dataset, taking actions according to the state-action values learned during the training process above. \n",
        "\n",
        "You can choose to use either of the strategies learned by SARSA and Q-learning by assigning them to the `view_strategy` variable."
      ]
    },
    {
      "cell_type": "code",
      "metadata": {
        "colab": {
          "base_uri": "https://localhost:8080/"
        },
        "id": "SUP7LEtGTOl2",
        "outputId": "c984f33e-25dd-4f7d-c271-8db707bd0dba"
      },
      "source": [
        "view_strategy = q_q_learning\n",
        "#view_strategy = q_sarsa\n",
        "view_strategy"
      ],
      "execution_count": null,
      "outputs": [
        {
          "output_type": "execute_result",
          "data": {
            "text/plain": [
              "array([[[269.63873877, 258.82314963, 978.18253928,   0.        ,\n",
              "           0.        ],\n",
              "        [256.8680081 , 979.60151257, 262.66058056,   0.        ,\n",
              "           0.        ],\n",
              "        [980.38758948, 277.39485113, 272.51388926,   0.        ,\n",
              "           0.        ],\n",
              "        [980.98700206, 324.67676455, 323.77591165,   0.        ,\n",
              "           0.        ],\n",
              "        [310.64430335, 981.19890816, 301.4529371 ,   0.        ,\n",
              "           0.        ],\n",
              "        [981.87201381, 377.2237703 , 374.11669399,   0.        ,\n",
              "           0.        ],\n",
              "        [982.01206435, 289.94581523, 296.22933485,   0.        ,\n",
              "           0.        ],\n",
              "        [982.03078577, 254.3834223 , 250.87397372,   0.        ,\n",
              "           0.        ],\n",
              "        [982.07154185, 245.89959568, 268.23052815,   0.        ,\n",
              "           0.        ],\n",
              "        [982.48094016, 269.03919366, 258.14525424,   0.        ,\n",
              "           0.        ]],\n",
              "\n",
              "       [[  0.        , 192.90235374, 981.31116185, 180.85940688,\n",
              "           0.        ],\n",
              "        [  0.        , 169.46496592, 981.10660438, 151.89757143,\n",
              "           0.        ],\n",
              "        [  0.        , 171.98427555, 981.51517347, 181.64524993,\n",
              "           0.        ],\n",
              "        [  0.        , 254.07707472, 982.42145682, 244.52690515,\n",
              "           0.        ],\n",
              "        [  0.        , 255.48868498, 982.96807668, 270.22967777,\n",
              "           0.        ],\n",
              "        [  0.        , 361.89750599, 982.90469892, 351.93965296,\n",
              "           0.        ],\n",
              "        [  0.        , 295.11024144, 983.07761971, 304.62572352,\n",
              "           0.        ],\n",
              "        [  0.        , 279.86182869, 982.88106184, 276.51177287,\n",
              "           0.        ],\n",
              "        [  0.        , 322.83230502, 982.77617238, 322.42740944,\n",
              "           0.        ],\n",
              "        [  0.        , 982.6428638 , 386.13913764, 387.54710084,\n",
              "           0.        ]],\n",
              "\n",
              "       [[978.19662519, 361.57546873,   0.        ,   0.        ,\n",
              "         359.89022705],\n",
              "        [977.90104865, 244.99325655,   0.        ,   0.        ,\n",
              "         251.82837351],\n",
              "        [977.92699308, 231.18155908,   0.        ,   0.        ,\n",
              "         218.37508397],\n",
              "        [978.90952719, 253.90770349,   0.        ,   0.        ,\n",
              "         249.0437005 ],\n",
              "        [248.67211139, 978.54889573,   0.        ,   0.        ,\n",
              "         250.59500834],\n",
              "        [980.10032348, 301.32183628,   0.        ,   0.        ,\n",
              "         279.83870721],\n",
              "        [980.04783881, 192.95313205,   0.        ,   0.        ,\n",
              "         193.77709198],\n",
              "        [978.28031966, 125.90910147,   0.        ,   0.        ,\n",
              "         120.03983149],\n",
              "        [979.2667815 , 132.01808634,   0.        ,   0.        ,\n",
              "         127.73102281],\n",
              "        [981.41662784, 148.88063803,   0.        ,   0.        ,\n",
              "         143.70277349]]])"
            ]
          },
          "metadata": {
            "tags": []
          },
          "execution_count": 26
        }
      ]
    },
    {
      "cell_type": "code",
      "metadata": {
        "colab": {
          "base_uri": "https://localhost:8080/",
          "height": 17
        },
        "id": "JeB6NY-QTOl2",
        "scrolled": false,
        "outputId": "2e6337df-ba34-42d9-b1bc-e24ffe796d00"
      },
      "source": [
        "%matplotlib nbagg\n",
        "%matplotlib nbagg\n",
        "\n",
        "fig = plt.figure(figsize=(12, 8))\n",
        "\n",
        "gs = GridSpec(2,2) # 2 rows, 2 columns\n",
        "\n",
        "ax1 = fig.add_subplot(gs[0,0]) # First row, first column\n",
        "ax2 = fig.add_subplot(gs[0,1]) # First row, second column\n",
        "ax3 = fig.add_subplot(gs[1,0]) # Second row, first column\n",
        "\n",
        "bids = []\n",
        "asks = []\n",
        "bid_fills = []\n",
        "xdata = []\n",
        "pnl = []\n",
        "\n",
        "done = False\n",
        "state = get_initial_state(data_generator)\n",
        "rewards = 0.0\n",
        "iteration = 0\n",
        "\n",
        "while iteration < MAX_ITER and not done:\n",
        "    try:\n",
        "        start_time = time.time()\n",
        "        prev_position_name = [name for name, pos in positions.items() if pos == state[0]][0] \n",
        "        \n",
        "        action = np.argmax(view_strategy[state[0], state[1], :])\n",
        "        try:\n",
        "            state, reward = step(state, action)\n",
        "        except StopIteration:\n",
        "            done = True\n",
        "            print('Stopped at time step', iteration)\n",
        "            continue\n",
        "        iteration += 1\n",
        "        \n",
        "        position_name = [name for name, pos in positions.items() if pos == state[0]][0] \n",
        "        action_name = [name for name, act in actions.items() if act == action][0]                    \n",
        "        prices = state[2]\n",
        "        if state[3] is None:\n",
        "            entry_price = 'n/a'\n",
        "        else:\n",
        "            entry_price = \"%.2f\" % state[3]\n",
        "        \n",
        "        # Cumulative PnL\n",
        "        if len(pnl) == 0:\n",
        "            pnl.append(reward)\n",
        "        else: \n",
        "            pnl.append(pnl[-1]+reward)\n",
        "\n",
        "        bids.append(prices['bid'])\n",
        "        asks.append(prices['ask'])\n",
        "        xdata.append(iteration)\n",
        "        \n",
        "        # Plot most recent 80 prices\n",
        "        ax1.plot(xdata, \n",
        "                 bids, color = 'black')\n",
        "        ax1.plot(xdata, \n",
        "                 asks, color = 'black')\n",
        "        ax1.set_ylabel('Prices')\n",
        "        ax1.set_xlabel('Iteration')\n",
        "        ax1.set_title('Cumulated PnL: ' + \"%.2f\" % pnl[-1] + ' ~ '\n",
        "                     + 'Position: ' + position_name + ' ~ '\n",
        "                     + 'Entry Price: ' + entry_price)\n",
        "        ax1.set_xlim([max(0, iteration - 80.5), iteration + 0.5])\n",
        "\n",
        "        # Plotting actions taken according to the Policy\n",
        "        if position_name != prev_position_name:\n",
        "            if action == actions['sell']:\n",
        "                ax1.scatter(iteration, prices['bid']+0.1, \n",
        "                        color='orangered', marker='v', s=50)\n",
        "            elif action == actions['buy']:\n",
        "                ax1.scatter(iteration, prices['ask']-0.1, \n",
        "                        color='lawngreen', marker='^', s=50)\n",
        "        \n",
        "        # Ploting PnL\n",
        "        ax2.clear()\n",
        "        ax2.plot(xdata, pnl)\n",
        "        ax2.set_ylabel('Total PnL')\n",
        "        ax2.set_xlabel('Iteration')\n",
        "\n",
        "        # Plotting current probabilities to fill\n",
        "        q_a = FILL_PROBS[state[1]]\n",
        "        q_b = 1 - q_a\n",
        "        performance = [q_b, q_a]\n",
        "\n",
        "        ax3.clear()\n",
        "        ax3.bar([0, 1], [q_b, q_a], align='center', alpha=0.5, \n",
        "                color=['orangered','lawngreen'])\n",
        "        ax3.set_xticks([0, 1])\n",
        "        ax3.set_xticklabels(['bid', 'ask'])\n",
        "        ax3.set_title('Probability of fill')\n",
        "        ax3.set_ylim([0, 1])\n",
        "        fig.tight_layout()\n",
        "        fig.canvas.draw()\n",
        "        time.sleep(max(0, 0.5 - (time.time() - start_time)))\n",
        "        \n",
        "    except KeyboardInterrupt:\n",
        "        print('Animation stopped')\n",
        "        break"
      ],
      "execution_count": null,
      "outputs": [
        {
          "output_type": "display_data",
          "data": {
            "application/javascript": [
              "/* Put everything inside the global mpl namespace */\n",
              "window.mpl = {};\n",
              "\n",
              "\n",
              "mpl.get_websocket_type = function() {\n",
              "    if (typeof(WebSocket) !== 'undefined') {\n",
              "        return WebSocket;\n",
              "    } else if (typeof(MozWebSocket) !== 'undefined') {\n",
              "        return MozWebSocket;\n",
              "    } else {\n",
              "        alert('Your browser does not have WebSocket support. ' +\n",
              "              'Please try Chrome, Safari or Firefox ≥ 6. ' +\n",
              "              'Firefox 4 and 5 are also supported but you ' +\n",
              "              'have to enable WebSockets in about:config.');\n",
              "    };\n",
              "}\n",
              "\n",
              "mpl.figure = function(figure_id, websocket, ondownload, parent_element) {\n",
              "    this.id = figure_id;\n",
              "\n",
              "    this.ws = websocket;\n",
              "\n",
              "    this.supports_binary = (this.ws.binaryType != undefined);\n",
              "\n",
              "    if (!this.supports_binary) {\n",
              "        var warnings = document.getElementById(\"mpl-warnings\");\n",
              "        if (warnings) {\n",
              "            warnings.style.display = 'block';\n",
              "            warnings.textContent = (\n",
              "                \"This browser does not support binary websocket messages. \" +\n",
              "                    \"Performance may be slow.\");\n",
              "        }\n",
              "    }\n",
              "\n",
              "    this.imageObj = new Image();\n",
              "\n",
              "    this.context = undefined;\n",
              "    this.message = undefined;\n",
              "    this.canvas = undefined;\n",
              "    this.rubberband_canvas = undefined;\n",
              "    this.rubberband_context = undefined;\n",
              "    this.format_dropdown = undefined;\n",
              "\n",
              "    this.image_mode = 'full';\n",
              "\n",
              "    this.root = $('<div/>');\n",
              "    this._root_extra_style(this.root)\n",
              "    this.root.attr('style', 'display: inline-block');\n",
              "\n",
              "    $(parent_element).append(this.root);\n",
              "\n",
              "    this._init_header(this);\n",
              "    this._init_canvas(this);\n",
              "    this._init_toolbar(this);\n",
              "\n",
              "    var fig = this;\n",
              "\n",
              "    this.waiting = false;\n",
              "\n",
              "    this.ws.onopen =  function () {\n",
              "            fig.send_message(\"supports_binary\", {value: fig.supports_binary});\n",
              "            fig.send_message(\"send_image_mode\", {});\n",
              "            if (mpl.ratio != 1) {\n",
              "                fig.send_message(\"set_dpi_ratio\", {'dpi_ratio': mpl.ratio});\n",
              "            }\n",
              "            fig.send_message(\"refresh\", {});\n",
              "        }\n",
              "\n",
              "    this.imageObj.onload = function() {\n",
              "            if (fig.image_mode == 'full') {\n",
              "                // Full images could contain transparency (where diff images\n",
              "                // almost always do), so we need to clear the canvas so that\n",
              "                // there is no ghosting.\n",
              "                fig.context.clearRect(0, 0, fig.canvas.width, fig.canvas.height);\n",
              "            }\n",
              "            fig.context.drawImage(fig.imageObj, 0, 0);\n",
              "        };\n",
              "\n",
              "    this.imageObj.onunload = function() {\n",
              "        fig.ws.close();\n",
              "    }\n",
              "\n",
              "    this.ws.onmessage = this._make_on_message_function(this);\n",
              "\n",
              "    this.ondownload = ondownload;\n",
              "}\n",
              "\n",
              "mpl.figure.prototype._init_header = function() {\n",
              "    var titlebar = $(\n",
              "        '<div class=\"ui-dialog-titlebar ui-widget-header ui-corner-all ' +\n",
              "        'ui-helper-clearfix\"/>');\n",
              "    var titletext = $(\n",
              "        '<div class=\"ui-dialog-title\" style=\"width: 100%; ' +\n",
              "        'text-align: center; padding: 3px;\"/>');\n",
              "    titlebar.append(titletext)\n",
              "    this.root.append(titlebar);\n",
              "    this.header = titletext[0];\n",
              "}\n",
              "\n",
              "\n",
              "\n",
              "mpl.figure.prototype._canvas_extra_style = function(canvas_div) {\n",
              "\n",
              "}\n",
              "\n",
              "\n",
              "mpl.figure.prototype._root_extra_style = function(canvas_div) {\n",
              "\n",
              "}\n",
              "\n",
              "mpl.figure.prototype._init_canvas = function() {\n",
              "    var fig = this;\n",
              "\n",
              "    var canvas_div = $('<div/>');\n",
              "\n",
              "    canvas_div.attr('style', 'position: relative; clear: both; outline: 0');\n",
              "\n",
              "    function canvas_keyboard_event(event) {\n",
              "        return fig.key_event(event, event['data']);\n",
              "    }\n",
              "\n",
              "    canvas_div.keydown('key_press', canvas_keyboard_event);\n",
              "    canvas_div.keyup('key_release', canvas_keyboard_event);\n",
              "    this.canvas_div = canvas_div\n",
              "    this._canvas_extra_style(canvas_div)\n",
              "    this.root.append(canvas_div);\n",
              "\n",
              "    var canvas = $('<canvas/>');\n",
              "    canvas.addClass('mpl-canvas');\n",
              "    canvas.attr('style', \"left: 0; top: 0; z-index: 0; outline: 0\")\n",
              "\n",
              "    this.canvas = canvas[0];\n",
              "    this.context = canvas[0].getContext(\"2d\");\n",
              "\n",
              "    var backingStore = this.context.backingStorePixelRatio ||\n",
              "\tthis.context.webkitBackingStorePixelRatio ||\n",
              "\tthis.context.mozBackingStorePixelRatio ||\n",
              "\tthis.context.msBackingStorePixelRatio ||\n",
              "\tthis.context.oBackingStorePixelRatio ||\n",
              "\tthis.context.backingStorePixelRatio || 1;\n",
              "\n",
              "    mpl.ratio = (window.devicePixelRatio || 1) / backingStore;\n",
              "\n",
              "    var rubberband = $('<canvas/>');\n",
              "    rubberband.attr('style', \"position: absolute; left: 0; top: 0; z-index: 1;\")\n",
              "\n",
              "    var pass_mouse_events = true;\n",
              "\n",
              "    canvas_div.resizable({\n",
              "        start: function(event, ui) {\n",
              "            pass_mouse_events = false;\n",
              "        },\n",
              "        resize: function(event, ui) {\n",
              "            fig.request_resize(ui.size.width, ui.size.height);\n",
              "        },\n",
              "        stop: function(event, ui) {\n",
              "            pass_mouse_events = true;\n",
              "            fig.request_resize(ui.size.width, ui.size.height);\n",
              "        },\n",
              "    });\n",
              "\n",
              "    function mouse_event_fn(event) {\n",
              "        if (pass_mouse_events)\n",
              "            return fig.mouse_event(event, event['data']);\n",
              "    }\n",
              "\n",
              "    rubberband.mousedown('button_press', mouse_event_fn);\n",
              "    rubberband.mouseup('button_release', mouse_event_fn);\n",
              "    // Throttle sequential mouse events to 1 every 20ms.\n",
              "    rubberband.mousemove('motion_notify', mouse_event_fn);\n",
              "\n",
              "    rubberband.mouseenter('figure_enter', mouse_event_fn);\n",
              "    rubberband.mouseleave('figure_leave', mouse_event_fn);\n",
              "\n",
              "    canvas_div.on(\"wheel\", function (event) {\n",
              "        event = event.originalEvent;\n",
              "        event['data'] = 'scroll'\n",
              "        if (event.deltaY < 0) {\n",
              "            event.step = 1;\n",
              "        } else {\n",
              "            event.step = -1;\n",
              "        }\n",
              "        mouse_event_fn(event);\n",
              "    });\n",
              "\n",
              "    canvas_div.append(canvas);\n",
              "    canvas_div.append(rubberband);\n",
              "\n",
              "    this.rubberband = rubberband;\n",
              "    this.rubberband_canvas = rubberband[0];\n",
              "    this.rubberband_context = rubberband[0].getContext(\"2d\");\n",
              "    this.rubberband_context.strokeStyle = \"#000000\";\n",
              "\n",
              "    this._resize_canvas = function(width, height) {\n",
              "        // Keep the size of the canvas, canvas container, and rubber band\n",
              "        // canvas in synch.\n",
              "        canvas_div.css('width', width)\n",
              "        canvas_div.css('height', height)\n",
              "\n",
              "        canvas.attr('width', width * mpl.ratio);\n",
              "        canvas.attr('height', height * mpl.ratio);\n",
              "        canvas.attr('style', 'width: ' + width + 'px; height: ' + height + 'px;');\n",
              "\n",
              "        rubberband.attr('width', width);\n",
              "        rubberband.attr('height', height);\n",
              "    }\n",
              "\n",
              "    // Set the figure to an initial 600x600px, this will subsequently be updated\n",
              "    // upon first draw.\n",
              "    this._resize_canvas(600, 600);\n",
              "\n",
              "    // Disable right mouse context menu.\n",
              "    $(this.rubberband_canvas).bind(\"contextmenu\",function(e){\n",
              "        return false;\n",
              "    });\n",
              "\n",
              "    function set_focus () {\n",
              "        canvas.focus();\n",
              "        canvas_div.focus();\n",
              "    }\n",
              "\n",
              "    window.setTimeout(set_focus, 100);\n",
              "}\n",
              "\n",
              "mpl.figure.prototype._init_toolbar = function() {\n",
              "    var fig = this;\n",
              "\n",
              "    var nav_element = $('<div/>');\n",
              "    nav_element.attr('style', 'width: 100%');\n",
              "    this.root.append(nav_element);\n",
              "\n",
              "    // Define a callback function for later on.\n",
              "    function toolbar_event(event) {\n",
              "        return fig.toolbar_button_onclick(event['data']);\n",
              "    }\n",
              "    function toolbar_mouse_event(event) {\n",
              "        return fig.toolbar_button_onmouseover(event['data']);\n",
              "    }\n",
              "\n",
              "    for(var toolbar_ind in mpl.toolbar_items) {\n",
              "        var name = mpl.toolbar_items[toolbar_ind][0];\n",
              "        var tooltip = mpl.toolbar_items[toolbar_ind][1];\n",
              "        var image = mpl.toolbar_items[toolbar_ind][2];\n",
              "        var method_name = mpl.toolbar_items[toolbar_ind][3];\n",
              "\n",
              "        if (!name) {\n",
              "            // put a spacer in here.\n",
              "            continue;\n",
              "        }\n",
              "        var button = $('<button/>');\n",
              "        button.addClass('ui-button ui-widget ui-state-default ui-corner-all ' +\n",
              "                        'ui-button-icon-only');\n",
              "        button.attr('role', 'button');\n",
              "        button.attr('aria-disabled', 'false');\n",
              "        button.click(method_name, toolbar_event);\n",
              "        button.mouseover(tooltip, toolbar_mouse_event);\n",
              "\n",
              "        var icon_img = $('<span/>');\n",
              "        icon_img.addClass('ui-button-icon-primary ui-icon');\n",
              "        icon_img.addClass(image);\n",
              "        icon_img.addClass('ui-corner-all');\n",
              "\n",
              "        var tooltip_span = $('<span/>');\n",
              "        tooltip_span.addClass('ui-button-text');\n",
              "        tooltip_span.html(tooltip);\n",
              "\n",
              "        button.append(icon_img);\n",
              "        button.append(tooltip_span);\n",
              "\n",
              "        nav_element.append(button);\n",
              "    }\n",
              "\n",
              "    var fmt_picker_span = $('<span/>');\n",
              "\n",
              "    var fmt_picker = $('<select/>');\n",
              "    fmt_picker.addClass('mpl-toolbar-option ui-widget ui-widget-content');\n",
              "    fmt_picker_span.append(fmt_picker);\n",
              "    nav_element.append(fmt_picker_span);\n",
              "    this.format_dropdown = fmt_picker[0];\n",
              "\n",
              "    for (var ind in mpl.extensions) {\n",
              "        var fmt = mpl.extensions[ind];\n",
              "        var option = $(\n",
              "            '<option/>', {selected: fmt === mpl.default_extension}).html(fmt);\n",
              "        fmt_picker.append(option);\n",
              "    }\n",
              "\n",
              "    // Add hover states to the ui-buttons\n",
              "    $( \".ui-button\" ).hover(\n",
              "        function() { $(this).addClass(\"ui-state-hover\");},\n",
              "        function() { $(this).removeClass(\"ui-state-hover\");}\n",
              "    );\n",
              "\n",
              "    var status_bar = $('<span class=\"mpl-message\"/>');\n",
              "    nav_element.append(status_bar);\n",
              "    this.message = status_bar[0];\n",
              "}\n",
              "\n",
              "mpl.figure.prototype.request_resize = function(x_pixels, y_pixels) {\n",
              "    // Request matplotlib to resize the figure. Matplotlib will then trigger a resize in the client,\n",
              "    // which will in turn request a refresh of the image.\n",
              "    this.send_message('resize', {'width': x_pixels, 'height': y_pixels});\n",
              "}\n",
              "\n",
              "mpl.figure.prototype.send_message = function(type, properties) {\n",
              "    properties['type'] = type;\n",
              "    properties['figure_id'] = this.id;\n",
              "    this.ws.send(JSON.stringify(properties));\n",
              "}\n",
              "\n",
              "mpl.figure.prototype.send_draw_message = function() {\n",
              "    if (!this.waiting) {\n",
              "        this.waiting = true;\n",
              "        this.ws.send(JSON.stringify({type: \"draw\", figure_id: this.id}));\n",
              "    }\n",
              "}\n",
              "\n",
              "\n",
              "mpl.figure.prototype.handle_save = function(fig, msg) {\n",
              "    var format_dropdown = fig.format_dropdown;\n",
              "    var format = format_dropdown.options[format_dropdown.selectedIndex].value;\n",
              "    fig.ondownload(fig, format);\n",
              "}\n",
              "\n",
              "\n",
              "mpl.figure.prototype.handle_resize = function(fig, msg) {\n",
              "    var size = msg['size'];\n",
              "    if (size[0] != fig.canvas.width || size[1] != fig.canvas.height) {\n",
              "        fig._resize_canvas(size[0], size[1]);\n",
              "        fig.send_message(\"refresh\", {});\n",
              "    };\n",
              "}\n",
              "\n",
              "mpl.figure.prototype.handle_rubberband = function(fig, msg) {\n",
              "    var x0 = msg['x0'] / mpl.ratio;\n",
              "    var y0 = (fig.canvas.height - msg['y0']) / mpl.ratio;\n",
              "    var x1 = msg['x1'] / mpl.ratio;\n",
              "    var y1 = (fig.canvas.height - msg['y1']) / mpl.ratio;\n",
              "    x0 = Math.floor(x0) + 0.5;\n",
              "    y0 = Math.floor(y0) + 0.5;\n",
              "    x1 = Math.floor(x1) + 0.5;\n",
              "    y1 = Math.floor(y1) + 0.5;\n",
              "    var min_x = Math.min(x0, x1);\n",
              "    var min_y = Math.min(y0, y1);\n",
              "    var width = Math.abs(x1 - x0);\n",
              "    var height = Math.abs(y1 - y0);\n",
              "\n",
              "    fig.rubberband_context.clearRect(\n",
              "        0, 0, fig.canvas.width / mpl.ratio, fig.canvas.height / mpl.ratio);\n",
              "\n",
              "    fig.rubberband_context.strokeRect(min_x, min_y, width, height);\n",
              "}\n",
              "\n",
              "mpl.figure.prototype.handle_figure_label = function(fig, msg) {\n",
              "    // Updates the figure title.\n",
              "    fig.header.textContent = msg['label'];\n",
              "}\n",
              "\n",
              "mpl.figure.prototype.handle_cursor = function(fig, msg) {\n",
              "    var cursor = msg['cursor'];\n",
              "    switch(cursor)\n",
              "    {\n",
              "    case 0:\n",
              "        cursor = 'pointer';\n",
              "        break;\n",
              "    case 1:\n",
              "        cursor = 'default';\n",
              "        break;\n",
              "    case 2:\n",
              "        cursor = 'crosshair';\n",
              "        break;\n",
              "    case 3:\n",
              "        cursor = 'move';\n",
              "        break;\n",
              "    }\n",
              "    fig.rubberband_canvas.style.cursor = cursor;\n",
              "}\n",
              "\n",
              "mpl.figure.prototype.handle_message = function(fig, msg) {\n",
              "    fig.message.textContent = msg['message'];\n",
              "}\n",
              "\n",
              "mpl.figure.prototype.handle_draw = function(fig, msg) {\n",
              "    // Request the server to send over a new figure.\n",
              "    fig.send_draw_message();\n",
              "}\n",
              "\n",
              "mpl.figure.prototype.handle_image_mode = function(fig, msg) {\n",
              "    fig.image_mode = msg['mode'];\n",
              "}\n",
              "\n",
              "mpl.figure.prototype.updated_canvas_event = function() {\n",
              "    // Called whenever the canvas gets updated.\n",
              "    this.send_message(\"ack\", {});\n",
              "}\n",
              "\n",
              "// A function to construct a web socket function for onmessage handling.\n",
              "// Called in the figure constructor.\n",
              "mpl.figure.prototype._make_on_message_function = function(fig) {\n",
              "    return function socket_on_message(evt) {\n",
              "        if (evt.data instanceof Blob) {\n",
              "            /* FIXME: We get \"Resource interpreted as Image but\n",
              "             * transferred with MIME type text/plain:\" errors on\n",
              "             * Chrome.  But how to set the MIME type?  It doesn't seem\n",
              "             * to be part of the websocket stream */\n",
              "            evt.data.type = \"image/png\";\n",
              "\n",
              "            /* Free the memory for the previous frames */\n",
              "            if (fig.imageObj.src) {\n",
              "                (window.URL || window.webkitURL).revokeObjectURL(\n",
              "                    fig.imageObj.src);\n",
              "            }\n",
              "\n",
              "            fig.imageObj.src = (window.URL || window.webkitURL).createObjectURL(\n",
              "                evt.data);\n",
              "            fig.updated_canvas_event();\n",
              "            fig.waiting = false;\n",
              "            return;\n",
              "        }\n",
              "        else if (typeof evt.data === 'string' && evt.data.slice(0, 21) == \"data:image/png;base64\") {\n",
              "            fig.imageObj.src = evt.data;\n",
              "            fig.updated_canvas_event();\n",
              "            fig.waiting = false;\n",
              "            return;\n",
              "        }\n",
              "\n",
              "        var msg = JSON.parse(evt.data);\n",
              "        var msg_type = msg['type'];\n",
              "\n",
              "        // Call the  \"handle_{type}\" callback, which takes\n",
              "        // the figure and JSON message as its only arguments.\n",
              "        try {\n",
              "            var callback = fig[\"handle_\" + msg_type];\n",
              "        } catch (e) {\n",
              "            console.log(\"No handler for the '\" + msg_type + \"' message type: \", msg);\n",
              "            return;\n",
              "        }\n",
              "\n",
              "        if (callback) {\n",
              "            try {\n",
              "                // console.log(\"Handling '\" + msg_type + \"' message: \", msg);\n",
              "                callback(fig, msg);\n",
              "            } catch (e) {\n",
              "                console.log(\"Exception inside the 'handler_\" + msg_type + \"' callback:\", e, e.stack, msg);\n",
              "            }\n",
              "        }\n",
              "    };\n",
              "}\n",
              "\n",
              "// from http://stackoverflow.com/questions/1114465/getting-mouse-location-in-canvas\n",
              "mpl.findpos = function(e) {\n",
              "    //this section is from http://www.quirksmode.org/js/events_properties.html\n",
              "    var targ;\n",
              "    if (!e)\n",
              "        e = window.event;\n",
              "    if (e.target)\n",
              "        targ = e.target;\n",
              "    else if (e.srcElement)\n",
              "        targ = e.srcElement;\n",
              "    if (targ.nodeType == 3) // defeat Safari bug\n",
              "        targ = targ.parentNode;\n",
              "\n",
              "    // jQuery normalizes the pageX and pageY\n",
              "    // pageX,Y are the mouse positions relative to the document\n",
              "    // offset() returns the position of the element relative to the document\n",
              "    var x = e.pageX - $(targ).offset().left;\n",
              "    var y = e.pageY - $(targ).offset().top;\n",
              "\n",
              "    return {\"x\": x, \"y\": y};\n",
              "};\n",
              "\n",
              "/*\n",
              " * return a copy of an object with only non-object keys\n",
              " * we need this to avoid circular references\n",
              " * http://stackoverflow.com/a/24161582/3208463\n",
              " */\n",
              "function simpleKeys (original) {\n",
              "  return Object.keys(original).reduce(function (obj, key) {\n",
              "    if (typeof original[key] !== 'object')\n",
              "        obj[key] = original[key]\n",
              "    return obj;\n",
              "  }, {});\n",
              "}\n",
              "\n",
              "mpl.figure.prototype.mouse_event = function(event, name) {\n",
              "    var canvas_pos = mpl.findpos(event)\n",
              "\n",
              "    if (name === 'button_press')\n",
              "    {\n",
              "        this.canvas.focus();\n",
              "        this.canvas_div.focus();\n",
              "    }\n",
              "\n",
              "    var x = canvas_pos.x * mpl.ratio;\n",
              "    var y = canvas_pos.y * mpl.ratio;\n",
              "\n",
              "    this.send_message(name, {x: x, y: y, button: event.button,\n",
              "                             step: event.step,\n",
              "                             guiEvent: simpleKeys(event)});\n",
              "\n",
              "    /* This prevents the web browser from automatically changing to\n",
              "     * the text insertion cursor when the button is pressed.  We want\n",
              "     * to control all of the cursor setting manually through the\n",
              "     * 'cursor' event from matplotlib */\n",
              "    event.preventDefault();\n",
              "    return false;\n",
              "}\n",
              "\n",
              "mpl.figure.prototype._key_event_extra = function(event, name) {\n",
              "    // Handle any extra behaviour associated with a key event\n",
              "}\n",
              "\n",
              "mpl.figure.prototype.key_event = function(event, name) {\n",
              "\n",
              "    // Prevent repeat events\n",
              "    if (name == 'key_press')\n",
              "    {\n",
              "        if (event.which === this._key)\n",
              "            return;\n",
              "        else\n",
              "            this._key = event.which;\n",
              "    }\n",
              "    if (name == 'key_release')\n",
              "        this._key = null;\n",
              "\n",
              "    var value = '';\n",
              "    if (event.ctrlKey && event.which != 17)\n",
              "        value += \"ctrl+\";\n",
              "    if (event.altKey && event.which != 18)\n",
              "        value += \"alt+\";\n",
              "    if (event.shiftKey && event.which != 16)\n",
              "        value += \"shift+\";\n",
              "\n",
              "    value += 'k';\n",
              "    value += event.which.toString();\n",
              "\n",
              "    this._key_event_extra(event, name);\n",
              "\n",
              "    this.send_message(name, {key: value,\n",
              "                             guiEvent: simpleKeys(event)});\n",
              "    return false;\n",
              "}\n",
              "\n",
              "mpl.figure.prototype.toolbar_button_onclick = function(name) {\n",
              "    if (name == 'download') {\n",
              "        this.handle_save(this, null);\n",
              "    } else {\n",
              "        this.send_message(\"toolbar_button\", {name: name});\n",
              "    }\n",
              "};\n",
              "\n",
              "mpl.figure.prototype.toolbar_button_onmouseover = function(tooltip) {\n",
              "    this.message.textContent = tooltip;\n",
              "};\n",
              "mpl.toolbar_items = [[\"Home\", \"Reset original view\", \"fa fa-home icon-home\", \"home\"], [\"Back\", \"Back to previous view\", \"fa fa-arrow-left icon-arrow-left\", \"back\"], [\"Forward\", \"Forward to next view\", \"fa fa-arrow-right icon-arrow-right\", \"forward\"], [\"\", \"\", \"\", \"\"], [\"Pan\", \"Pan axes with left mouse, zoom with right\", \"fa fa-arrows icon-move\", \"pan\"], [\"Zoom\", \"Zoom to rectangle\", \"fa fa-square-o icon-check-empty\", \"zoom\"], [\"\", \"\", \"\", \"\"], [\"Download\", \"Download plot\", \"fa fa-floppy-o icon-save\", \"download\"]];\n",
              "\n",
              "mpl.extensions = [\"eps\", \"jpeg\", \"pdf\", \"png\", \"ps\", \"raw\", \"svg\", \"tif\"];\n",
              "\n",
              "mpl.default_extension = \"png\";var comm_websocket_adapter = function(comm) {\n",
              "    // Create a \"websocket\"-like object which calls the given IPython comm\n",
              "    // object with the appropriate methods. Currently this is a non binary\n",
              "    // socket, so there is still some room for performance tuning.\n",
              "    var ws = {};\n",
              "\n",
              "    ws.close = function() {\n",
              "        comm.close()\n",
              "    };\n",
              "    ws.send = function(m) {\n",
              "        //console.log('sending', m);\n",
              "        comm.send(m);\n",
              "    };\n",
              "    // Register the callback with on_msg.\n",
              "    comm.on_msg(function(msg) {\n",
              "        //console.log('receiving', msg['content']['data'], msg);\n",
              "        // Pass the mpl event to the overridden (by mpl) onmessage function.\n",
              "        ws.onmessage(msg['content']['data'])\n",
              "    });\n",
              "    return ws;\n",
              "}\n",
              "\n",
              "mpl.mpl_figure_comm = function(comm, msg) {\n",
              "    // This is the function which gets called when the mpl process\n",
              "    // starts-up an IPython Comm through the \"matplotlib\" channel.\n",
              "\n",
              "    var id = msg.content.data.id;\n",
              "    // Get hold of the div created by the display call when the Comm\n",
              "    // socket was opened in Python.\n",
              "    var element = $(\"#\" + id);\n",
              "    var ws_proxy = comm_websocket_adapter(comm)\n",
              "\n",
              "    function ondownload(figure, format) {\n",
              "        window.open(figure.imageObj.src);\n",
              "    }\n",
              "\n",
              "    var fig = new mpl.figure(id, ws_proxy,\n",
              "                           ondownload,\n",
              "                           element.get(0));\n",
              "\n",
              "    // Call onopen now - mpl needs it, as it is assuming we've passed it a real\n",
              "    // web socket which is closed, not our websocket->open comm proxy.\n",
              "    ws_proxy.onopen();\n",
              "\n",
              "    fig.parent_element = element.get(0);\n",
              "    fig.cell_info = mpl.find_output_cell(\"<div id='\" + id + \"'></div>\");\n",
              "    if (!fig.cell_info) {\n",
              "        console.error(\"Failed to find cell for figure\", id, fig);\n",
              "        return;\n",
              "    }\n",
              "\n",
              "    var output_index = fig.cell_info[2]\n",
              "    var cell = fig.cell_info[0];\n",
              "\n",
              "};\n",
              "\n",
              "mpl.figure.prototype.handle_close = function(fig, msg) {\n",
              "    var width = fig.canvas.width/mpl.ratio\n",
              "    fig.root.unbind('remove')\n",
              "\n",
              "    // Update the output cell to use the data from the current canvas.\n",
              "    fig.push_to_output();\n",
              "    var dataURL = fig.canvas.toDataURL();\n",
              "    // Re-enable the keyboard manager in IPython - without this line, in FF,\n",
              "    // the notebook keyboard shortcuts fail.\n",
              "    IPython.keyboard_manager.enable()\n",
              "    $(fig.parent_element).html('<img src=\"' + dataURL + '\" width=\"' + width + '\">');\n",
              "    fig.close_ws(fig, msg);\n",
              "}\n",
              "\n",
              "mpl.figure.prototype.close_ws = function(fig, msg){\n",
              "    fig.send_message('closing', msg);\n",
              "    // fig.ws.close()\n",
              "}\n",
              "\n",
              "mpl.figure.prototype.push_to_output = function(remove_interactive) {\n",
              "    // Turn the data on the canvas into data in the output cell.\n",
              "    var width = this.canvas.width/mpl.ratio\n",
              "    var dataURL = this.canvas.toDataURL();\n",
              "    this.cell_info[1]['text/html'] = '<img src=\"' + dataURL + '\" width=\"' + width + '\">';\n",
              "}\n",
              "\n",
              "mpl.figure.prototype.updated_canvas_event = function() {\n",
              "    // Tell IPython that the notebook contents must change.\n",
              "    IPython.notebook.set_dirty(true);\n",
              "    this.send_message(\"ack\", {});\n",
              "    var fig = this;\n",
              "    // Wait a second, then push the new image to the DOM so\n",
              "    // that it is saved nicely (might be nice to debounce this).\n",
              "    setTimeout(function () { fig.push_to_output() }, 1000);\n",
              "}\n",
              "\n",
              "mpl.figure.prototype._init_toolbar = function() {\n",
              "    var fig = this;\n",
              "\n",
              "    var nav_element = $('<div/>');\n",
              "    nav_element.attr('style', 'width: 100%');\n",
              "    this.root.append(nav_element);\n",
              "\n",
              "    // Define a callback function for later on.\n",
              "    function toolbar_event(event) {\n",
              "        return fig.toolbar_button_onclick(event['data']);\n",
              "    }\n",
              "    function toolbar_mouse_event(event) {\n",
              "        return fig.toolbar_button_onmouseover(event['data']);\n",
              "    }\n",
              "\n",
              "    for(var toolbar_ind in mpl.toolbar_items){\n",
              "        var name = mpl.toolbar_items[toolbar_ind][0];\n",
              "        var tooltip = mpl.toolbar_items[toolbar_ind][1];\n",
              "        var image = mpl.toolbar_items[toolbar_ind][2];\n",
              "        var method_name = mpl.toolbar_items[toolbar_ind][3];\n",
              "\n",
              "        if (!name) { continue; };\n",
              "\n",
              "        var button = $('<button class=\"btn btn-default\" href=\"#\" title=\"' + name + '\"><i class=\"fa ' + image + ' fa-lg\"></i></button>');\n",
              "        button.click(method_name, toolbar_event);\n",
              "        button.mouseover(tooltip, toolbar_mouse_event);\n",
              "        nav_element.append(button);\n",
              "    }\n",
              "\n",
              "    // Add the status bar.\n",
              "    var status_bar = $('<span class=\"mpl-message\" style=\"text-align:right; float: right;\"/>');\n",
              "    nav_element.append(status_bar);\n",
              "    this.message = status_bar[0];\n",
              "\n",
              "    // Add the close button to the window.\n",
              "    var buttongrp = $('<div class=\"btn-group inline pull-right\"></div>');\n",
              "    var button = $('<button class=\"btn btn-mini btn-primary\" href=\"#\" title=\"Stop Interaction\"><i class=\"fa fa-power-off icon-remove icon-large\"></i></button>');\n",
              "    button.click(function (evt) { fig.handle_close(fig, {}); } );\n",
              "    button.mouseover('Stop Interaction', toolbar_mouse_event);\n",
              "    buttongrp.append(button);\n",
              "    var titlebar = this.root.find($('.ui-dialog-titlebar'));\n",
              "    titlebar.prepend(buttongrp);\n",
              "}\n",
              "\n",
              "mpl.figure.prototype._root_extra_style = function(el){\n",
              "    var fig = this\n",
              "    el.on(\"remove\", function(){\n",
              "\tfig.close_ws(fig, {});\n",
              "    });\n",
              "}\n",
              "\n",
              "mpl.figure.prototype._canvas_extra_style = function(el){\n",
              "    // this is important to make the div 'focusable\n",
              "    el.attr('tabindex', 0)\n",
              "    // reach out to IPython and tell the keyboard manager to turn it's self\n",
              "    // off when our div gets focus\n",
              "\n",
              "    // location in version 3\n",
              "    if (IPython.notebook.keyboard_manager) {\n",
              "        IPython.notebook.keyboard_manager.register_events(el);\n",
              "    }\n",
              "    else {\n",
              "        // location in version 2\n",
              "        IPython.keyboard_manager.register_events(el);\n",
              "    }\n",
              "\n",
              "}\n",
              "\n",
              "mpl.figure.prototype._key_event_extra = function(event, name) {\n",
              "    var manager = IPython.notebook.keyboard_manager;\n",
              "    if (!manager)\n",
              "        manager = IPython.keyboard_manager;\n",
              "\n",
              "    // Check for shift+enter\n",
              "    if (event.shiftKey && event.which == 13) {\n",
              "        this.canvas_div.blur();\n",
              "        // select the cell after this one\n",
              "        var index = IPython.notebook.find_cell_index(this.cell_info[0]);\n",
              "        IPython.notebook.select(index + 1);\n",
              "    }\n",
              "}\n",
              "\n",
              "mpl.figure.prototype.handle_save = function(fig, msg) {\n",
              "    fig.ondownload(fig, null);\n",
              "}\n",
              "\n",
              "\n",
              "mpl.find_output_cell = function(html_output) {\n",
              "    // Return the cell and output element which can be found *uniquely* in the notebook.\n",
              "    // Note - this is a bit hacky, but it is done because the \"notebook_saving.Notebook\"\n",
              "    // IPython event is triggered only after the cells have been serialised, which for\n",
              "    // our purposes (turning an active figure into a static one), is too late.\n",
              "    var cells = IPython.notebook.get_cells();\n",
              "    var ncells = cells.length;\n",
              "    for (var i=0; i<ncells; i++) {\n",
              "        var cell = cells[i];\n",
              "        if (cell.cell_type === 'code'){\n",
              "            for (var j=0; j<cell.output_area.outputs.length; j++) {\n",
              "                var data = cell.output_area.outputs[j];\n",
              "                if (data.data) {\n",
              "                    // IPython >= 3 moved mimebundle to data attribute of output\n",
              "                    data = data.data;\n",
              "                }\n",
              "                if (data['text/html'] == html_output) {\n",
              "                    return [cell, data, j];\n",
              "                }\n",
              "            }\n",
              "        }\n",
              "    }\n",
              "}\n",
              "\n",
              "// Register the function which deals with the matplotlib target/channel.\n",
              "// The kernel may be null if the page has been refreshed.\n",
              "if (IPython.notebook.kernel != null) {\n",
              "    IPython.notebook.kernel.comm_manager.register_target('matplotlib', mpl.mpl_figure_comm);\n",
              "}\n"
            ],
            "text/plain": [
              "<IPython.core.display.Javascript object>"
            ]
          },
          "metadata": {
            "tags": []
          }
        },
        {
          "output_type": "display_data",
          "data": {
            "text/html": [
              "<div id='1b8dea2e-d5f7-4413-9c72-5cbfbfc2b42a'></div>"
            ],
            "text/plain": [
              "<IPython.core.display.HTML object>"
            ]
          },
          "metadata": {
            "tags": []
          }
        }
      ]
    },
    {
      "cell_type": "code",
      "metadata": {
        "id": "bM6AvxFdTOl3"
      },
      "source": [
        ""
      ],
      "execution_count": null,
      "outputs": []
    }
  ]
}